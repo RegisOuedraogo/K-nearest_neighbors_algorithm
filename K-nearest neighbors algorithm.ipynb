{
 "cells": [
  {
   "cell_type": "markdown",
   "metadata": {},
   "source": [
    "                                                                                                        Regis Ouedraogo\n",
    "\n",
    "  # HOMEWORK 5        \n",
    "  # K-NN Algorithm    \n",
    "\n",
    " "
   ]
  },
  {
   "cell_type": "code",
   "execution_count": 94,
   "metadata": {},
   "outputs": [],
   "source": [
    "import numpy as np\n",
    "import pandas as pd\n",
    "import matplotlib.pyplot as plt\n",
    "import seaborn as sns \n",
    "\n",
    "from sklearn.model_selection import train_test_split"
   ]
  },
  {
   "cell_type": "code",
   "execution_count": 58,
   "metadata": {},
   "outputs": [
    {
     "data": {
      "text/html": [
       "<div>\n",
       "<style scoped>\n",
       "    .dataframe tbody tr th:only-of-type {\n",
       "        vertical-align: middle;\n",
       "    }\n",
       "\n",
       "    .dataframe tbody tr th {\n",
       "        vertical-align: top;\n",
       "    }\n",
       "\n",
       "    .dataframe thead th {\n",
       "        text-align: right;\n",
       "    }\n",
       "</style>\n",
       "<table border=\"1\" class=\"dataframe\">\n",
       "  <thead>\n",
       "    <tr style=\"text-align: right;\">\n",
       "      <th></th>\n",
       "      <th>Sex</th>\n",
       "      <th>Length</th>\n",
       "      <th>Diameter</th>\n",
       "      <th>Height</th>\n",
       "      <th>Whole weight</th>\n",
       "      <th>Shucked weight</th>\n",
       "      <th>Viscera weight</th>\n",
       "      <th>Shell weight</th>\n",
       "      <th>Rings</th>\n",
       "    </tr>\n",
       "  </thead>\n",
       "  <tbody>\n",
       "    <tr>\n",
       "      <th>0</th>\n",
       "      <td>M</td>\n",
       "      <td>0.350</td>\n",
       "      <td>0.265</td>\n",
       "      <td>0.090</td>\n",
       "      <td>0.2255</td>\n",
       "      <td>0.0995</td>\n",
       "      <td>0.0485</td>\n",
       "      <td>0.0700</td>\n",
       "      <td>7</td>\n",
       "    </tr>\n",
       "    <tr>\n",
       "      <th>1</th>\n",
       "      <td>F</td>\n",
       "      <td>0.530</td>\n",
       "      <td>0.420</td>\n",
       "      <td>0.135</td>\n",
       "      <td>0.6770</td>\n",
       "      <td>0.2565</td>\n",
       "      <td>0.1415</td>\n",
       "      <td>0.2100</td>\n",
       "      <td>9</td>\n",
       "    </tr>\n",
       "    <tr>\n",
       "      <th>2</th>\n",
       "      <td>M</td>\n",
       "      <td>0.440</td>\n",
       "      <td>0.365</td>\n",
       "      <td>0.125</td>\n",
       "      <td>0.5160</td>\n",
       "      <td>0.2155</td>\n",
       "      <td>0.1140</td>\n",
       "      <td>0.1550</td>\n",
       "      <td>10</td>\n",
       "    </tr>\n",
       "    <tr>\n",
       "      <th>3</th>\n",
       "      <td>I</td>\n",
       "      <td>0.330</td>\n",
       "      <td>0.255</td>\n",
       "      <td>0.080</td>\n",
       "      <td>0.2050</td>\n",
       "      <td>0.0895</td>\n",
       "      <td>0.0395</td>\n",
       "      <td>0.0550</td>\n",
       "      <td>7</td>\n",
       "    </tr>\n",
       "    <tr>\n",
       "      <th>4</th>\n",
       "      <td>I</td>\n",
       "      <td>0.425</td>\n",
       "      <td>0.300</td>\n",
       "      <td>0.095</td>\n",
       "      <td>0.3515</td>\n",
       "      <td>0.1410</td>\n",
       "      <td>0.0775</td>\n",
       "      <td>0.1200</td>\n",
       "      <td>8</td>\n",
       "    </tr>\n",
       "    <tr>\n",
       "      <th>...</th>\n",
       "      <td>...</td>\n",
       "      <td>...</td>\n",
       "      <td>...</td>\n",
       "      <td>...</td>\n",
       "      <td>...</td>\n",
       "      <td>...</td>\n",
       "      <td>...</td>\n",
       "      <td>...</td>\n",
       "      <td>...</td>\n",
       "    </tr>\n",
       "    <tr>\n",
       "      <th>4171</th>\n",
       "      <td>F</td>\n",
       "      <td>0.565</td>\n",
       "      <td>0.450</td>\n",
       "      <td>0.165</td>\n",
       "      <td>0.8870</td>\n",
       "      <td>0.3700</td>\n",
       "      <td>0.2390</td>\n",
       "      <td>0.2490</td>\n",
       "      <td>11</td>\n",
       "    </tr>\n",
       "    <tr>\n",
       "      <th>4172</th>\n",
       "      <td>M</td>\n",
       "      <td>0.590</td>\n",
       "      <td>0.440</td>\n",
       "      <td>0.135</td>\n",
       "      <td>0.9660</td>\n",
       "      <td>0.4390</td>\n",
       "      <td>0.2145</td>\n",
       "      <td>0.2605</td>\n",
       "      <td>10</td>\n",
       "    </tr>\n",
       "    <tr>\n",
       "      <th>4173</th>\n",
       "      <td>M</td>\n",
       "      <td>0.600</td>\n",
       "      <td>0.475</td>\n",
       "      <td>0.205</td>\n",
       "      <td>1.1760</td>\n",
       "      <td>0.5255</td>\n",
       "      <td>0.2875</td>\n",
       "      <td>0.3080</td>\n",
       "      <td>9</td>\n",
       "    </tr>\n",
       "    <tr>\n",
       "      <th>4174</th>\n",
       "      <td>F</td>\n",
       "      <td>0.625</td>\n",
       "      <td>0.485</td>\n",
       "      <td>0.150</td>\n",
       "      <td>1.0945</td>\n",
       "      <td>0.5310</td>\n",
       "      <td>0.2610</td>\n",
       "      <td>0.2960</td>\n",
       "      <td>10</td>\n",
       "    </tr>\n",
       "    <tr>\n",
       "      <th>4175</th>\n",
       "      <td>M</td>\n",
       "      <td>0.710</td>\n",
       "      <td>0.555</td>\n",
       "      <td>0.195</td>\n",
       "      <td>1.9485</td>\n",
       "      <td>0.9455</td>\n",
       "      <td>0.3765</td>\n",
       "      <td>0.4950</td>\n",
       "      <td>12</td>\n",
       "    </tr>\n",
       "  </tbody>\n",
       "</table>\n",
       "<p>4176 rows × 9 columns</p>\n",
       "</div>"
      ],
      "text/plain": [
       "     Sex  Length  Diameter  Height  Whole weight  Shucked weight  \\\n",
       "0      M   0.350     0.265   0.090        0.2255          0.0995   \n",
       "1      F   0.530     0.420   0.135        0.6770          0.2565   \n",
       "2      M   0.440     0.365   0.125        0.5160          0.2155   \n",
       "3      I   0.330     0.255   0.080        0.2050          0.0895   \n",
       "4      I   0.425     0.300   0.095        0.3515          0.1410   \n",
       "...   ..     ...       ...     ...           ...             ...   \n",
       "4171   F   0.565     0.450   0.165        0.8870          0.3700   \n",
       "4172   M   0.590     0.440   0.135        0.9660          0.4390   \n",
       "4173   M   0.600     0.475   0.205        1.1760          0.5255   \n",
       "4174   F   0.625     0.485   0.150        1.0945          0.5310   \n",
       "4175   M   0.710     0.555   0.195        1.9485          0.9455   \n",
       "\n",
       "      Viscera weight  Shell weight  Rings  \n",
       "0             0.0485        0.0700      7  \n",
       "1             0.1415        0.2100      9  \n",
       "2             0.1140        0.1550     10  \n",
       "3             0.0395        0.0550      7  \n",
       "4             0.0775        0.1200      8  \n",
       "...              ...           ...    ...  \n",
       "4171          0.2390        0.2490     11  \n",
       "4172          0.2145        0.2605     10  \n",
       "4173          0.2875        0.3080      9  \n",
       "4174          0.2610        0.2960     10  \n",
       "4175          0.3765        0.4950     12  \n",
       "\n",
       "[4176 rows x 9 columns]"
      ]
     },
     "execution_count": 58,
     "metadata": {},
     "output_type": "execute_result"
    }
   ],
   "source": [
    "url = \"https://archive.ics.uci.edu/ml/machine-learning-databases/abalone/abalone.data\"\n",
    "df = pd.read_csv(url)\n",
    "df.columns = [ \"Sex\", \"Length\", \"Diameter\", \"Height\", \"Whole weight\", \"Shucked weight\", \"Viscera weight\", \"Shell weight\", \"Rings\"]\n",
    "df"
   ]
  },
  {
   "cell_type": "code",
   "execution_count": 59,
   "metadata": {},
   "outputs": [
    {
     "data": {
      "image/png": "[encoded data removed]",
      "text/plain": [
       "<Figure size 432x288 with 1 Axes>"
      ]
     },
     "metadata": {
      "needs_background": "light"
     },
     "output_type": "display_data"
    }
   ],
   "source": [
    "#lets drop the Sex column as it is categorical\n",
    "df = df.drop(\"Sex\", axis=1)\n",
    "df[\"Rings\"].hist(bins=15)\n",
    "plt.show()\n",
    "#df"
   ]
  },
  {
   "cell_type": "code",
   "execution_count": 60,
   "metadata": {},
   "outputs": [
    {
     "data": {
      "text/plain": [
       "Length            0.557123\n",
       "Diameter          0.575005\n",
       "Height            0.558109\n",
       "Whole weight      0.540818\n",
       "Shucked weight    0.421256\n",
       "Viscera weight    0.504274\n",
       "Shell weight      0.628031\n",
       "Rings             1.000000\n",
       "Name: Rings, dtype: float64"
      ]
     },
     "execution_count": 60,
     "metadata": {},
     "output_type": "execute_result"
    }
   ],
   "source": [
    "#lets check for corrolation\n",
    "correlation_matrix = df.corr()\n",
    "correlation_matrix[\"Rings\"]"
   ]
  },
  {
   "cell_type": "code",
   "execution_count": 61,
   "metadata": {},
   "outputs": [],
   "source": [
    "X = df[[\"Length\", \"Diameter\", \"Height\", \"Whole weight\", \"Shucked weight\", \"Viscera weight\", \"Shell weight\"]].to_numpy()\n",
    "\n",
    "y = df[\"Rings\"].to_numpy()"
   ]
  },
  {
   "cell_type": "markdown",
   "metadata": {},
   "source": [
    "---\n",
    "\n",
    "**Remark**: In machine learning we fit the model to the **training data** and we choose optimal hyper-parameters using the **validation data**. Then with those choices of hyper-parameters, we fit the model again to the training data, and we evaluate and report model prformance on the **test data**. \n",
    "\n",
    "---"
   ]
  },
  {
   "cell_type": "code",
   "execution_count": 62,
   "metadata": {},
   "outputs": [],
   "source": [
    "X_train_full, X_test, y_train_full, y_test = train_test_split(X, y, test_size=0.2, random_state=42)\n",
    "\n",
    "X_train, X_valid, y_train, y_valid = train_test_split(X_train_full, y_train_full, test_size=0.25, random_state=42)"
   ]
  },
  {
   "cell_type": "code",
   "execution_count": 63,
   "metadata": {},
   "outputs": [
    {
     "data": {
      "text/plain": [
       "(2505, 7)"
      ]
     },
     "execution_count": 63,
     "metadata": {},
     "output_type": "execute_result"
    }
   ],
   "source": [
    "X_train.shape"
   ]
  },
  {
   "cell_type": "code",
   "execution_count": 64,
   "metadata": {},
   "outputs": [
    {
     "data": {
      "text/plain": [
       "(835, 7)"
      ]
     },
     "execution_count": 64,
     "metadata": {},
     "output_type": "execute_result"
    }
   ],
   "source": [
    "X_valid.shape"
   ]
  },
  {
   "cell_type": "code",
   "execution_count": 65,
   "metadata": {},
   "outputs": [
    {
     "data": {
      "text/plain": [
       "(836, 7)"
      ]
     },
     "execution_count": 65,
     "metadata": {},
     "output_type": "execute_result"
    }
   ],
   "source": [
    "X_test.shape"
   ]
  },
  {
   "cell_type": "code",
   "execution_count": 66,
   "metadata": {},
   "outputs": [
    {
     "name": "stdout",
     "output_type": "stream",
     "text": [
      "The distance between X_train[0] and X_train[1] is 0.09659710140578757\n"
     ]
    }
   ],
   "source": [
    "# We define Euclidean distance function\n",
    "\n",
    "def distance(p, q):\n",
    "    return np.sqrt((p - q) @ (p - q))\n",
    "\n",
    "print(f\"The distance between X_train[0] and X_train[1] is {distance(X_train[0], X_train[1])}\")"
   ]
  },
  {
   "cell_type": "code",
   "execution_count": 67,
   "metadata": {},
   "outputs": [],
   "source": [
    "# We define a function that will create a list of k nearest neighbors from the training data set to a given test point\n",
    "# For each such neighbor, this list will store: features of that neighbor, its label, and its distance to the test point\n",
    "\n",
    "def k_nearest_neighbors(point, \n",
    "                        training_features, \n",
    "                        training_labels, \n",
    "                        k):\n",
    "\n",
    "    neighbors = []\n",
    "    \n",
    "    for p, l in zip(training_features, training_labels):\n",
    "        d = distance(point, p)\n",
    "        info = [p, l, d]\n",
    "        neighbors.append(info)\n",
    "        \n",
    "    neighbors.sort(key = lambda x : x[-1])\n",
    "    \n",
    "    return neighbors[:k]"
   ]
  },
  {
   "cell_type": "code",
   "execution_count": 68,
   "metadata": {},
   "outputs": [
    {
     "data": {
      "text/plain": [
       "[[array([0.63  , 0.515 , 0.16  , 1.336 , 0.553 , 0.3205, 0.35  ]),\n",
       "  11,\n",
       "  0.07642316402766897],\n",
       " [array([0.66 , 0.505, 0.165, 1.374, 0.589, 0.351, 0.345]),\n",
       "  10,\n",
       "  0.07961940718191765],\n",
       " [array([0.62  , 0.465 , 0.19  , 1.3415, 0.5705, 0.3175, 0.355 ]),\n",
       "  11,\n",
       "  0.08369289097647416],\n",
       " [array([0.645 , 0.505 , 0.165 , 1.318 , 0.55  , 0.3015, 0.335 ]),\n",
       "  11,\n",
       "  0.08508525136590932],\n",
       " [array([0.63  , 0.485 , 0.17  , 1.3205, 0.5945, 0.345 , 0.345 ]),\n",
       "  9,\n",
       "  0.08942734481130464],\n",
       " [array([0.615 , 0.51  , 0.15  , 1.296 , 0.545 , 0.3315, 0.32  ]),\n",
       "  9,\n",
       "  0.0908542789306038],\n",
       " [array([0.625 , 0.515 , 0.17  , 1.331 , 0.5725, 0.3005, 0.361 ]),\n",
       "  9,\n",
       "  0.09106728281880373]]"
      ]
     },
     "execution_count": 68,
     "metadata": {},
     "output_type": "execute_result"
    }
   ],
   "source": [
    "# Check the k_nearest_neighbors function for a test data point\n",
    "\n",
    "k_nearest_neighbors(X_test[0], X_train, y_train, 7)"
   ]
  },
  {
   "cell_type": "code",
   "execution_count": 69,
   "metadata": {},
   "outputs": [
    {
     "data": {
      "text/plain": [
       "12"
      ]
     },
     "execution_count": 69,
     "metadata": {},
     "output_type": "execute_result"
    }
   ],
   "source": [
    "y_test[0]"
   ]
  },
  {
   "cell_type": "code",
   "execution_count": 70,
   "metadata": {},
   "outputs": [],
   "source": [
    "# We write a function that makes prediction for both classification and regression\n",
    "\n",
    "def knn_predict(point, \n",
    "                training_features, \n",
    "                training_labels, \n",
    "                k, \n",
    "                regression = False):\n",
    "    \n",
    "    neighbors = k_nearest_neighbors(point, \n",
    "                                    training_features, \n",
    "                                    training_labels, \n",
    "                                    k)\n",
    "    \n",
    "    labels = [x[1] for x in neighbors]\n",
    "    \n",
    "    if regression == False:\n",
    "        return max(labels, key = labels.count)\n",
    "    else:\n",
    "        return sum(x[1] for x in labels)/k"
   ]
  },
  {
   "cell_type": "code",
   "execution_count": 71,
   "metadata": {},
   "outputs": [
    {
     "data": {
      "text/plain": [
       "11"
      ]
     },
     "execution_count": 71,
     "metadata": {},
     "output_type": "execute_result"
    }
   ],
   "source": [
    "# Check this function\n",
    "\n",
    "knn_predict(X_test[0], X_train, y_train, 7)"
   ]
  },
  {
   "cell_type": "code",
   "execution_count": 72,
   "metadata": {},
   "outputs": [],
   "source": [
    "def accuracy(test_features, \n",
    "             test_labels,\n",
    "             training_features, \n",
    "             training_labels,\n",
    "             k):\n",
    "    \n",
    "    correct = 0\n",
    "    for point, label in zip(test_features, test_labels):\n",
    "        correct += label == knn_predict(point, \n",
    "                                        training_features, \n",
    "                                        training_labels, \n",
    "                                        k)\n",
    "    return correct/len(test_features)"
   ]
  },
  {
   "cell_type": "code",
   "execution_count": 73,
   "metadata": {},
   "outputs": [
    {
     "data": {
      "text/plain": [
       "0.20479041916167665"
      ]
     },
     "execution_count": 73,
     "metadata": {},
     "output_type": "execute_result"
    }
   ],
   "source": [
    "# Check  this function\n",
    "\n",
    "accuracy(X_valid, y_valid, X_train, y_train, 7)"
   ]
  },
  {
   "cell_type": "code",
   "execution_count": 74,
   "metadata": {},
   "outputs": [
    {
     "data": {
      "image/png": "[encoded data removed]",
      "text/plain": [
       "<Figure size 576x432 with 1 Axes>"
      ]
     },
     "metadata": {
      "needs_background": "light"
     },
     "output_type": "display_data"
    }
   ],
   "source": [
    "#k_values = [k for k in range(3, 25, 2)]\n",
    "k_values = [k for k in range(3, 50, 2)]\n",
    "accuracy_values = [accuracy(X_valid,\n",
    "                            y_valid,\n",
    "                            X_train,\n",
    "                            y_train, k) for k in k_values]\n",
    "\n",
    "plt.figure(figsize = (8, 6))\n",
    "\n",
    "plt.plot(k_values, accuracy_values, marker = \"o\")\n",
    "plt.title('Accuracy Score on the Validation Data')\n",
    "plt.xlabel('k')\n",
    "plt.ylabel('Accuracy')\n",
    "plt.xticks(k_values)\n",
    "plt.grid();"
   ]
  },
  {
   "cell_type": "code",
   "execution_count": 75,
   "metadata": {},
   "outputs": [
    {
     "data": {
      "text/plain": [
       "0.2679425837320574"
      ]
     },
     "execution_count": 75,
     "metadata": {},
     "output_type": "execute_result"
    }
   ],
   "source": [
    "# We choose the optimal value for k from the above graph, \n",
    "# we fit the model again on the training data and \n",
    "# we report the error on the test data\n",
    "\n",
    "accuracy(X_test, y_test, X_train, y_train, 39)\n",
    "\n",
    "# We get better accuracy using higher k!\n",
    "# Accuracy for k= 25 was 0.21! "
   ]
  },
  {
   "cell_type": "markdown",
   "metadata": {},
   "source": [
    "## 2) Use sklearn to implement K-NN "
   ]
  },
  {
   "cell_type": "code",
   "execution_count": 99,
   "metadata": {},
   "outputs": [],
   "source": [
    "from sklearn.neighbors import KNeighborsClassifier\n",
    "from sklearn.metrics import confusion_matrix, accuracy_score, classification_report\n",
    "\n",
    "X = df[[ \"Length\", \"Diameter\", \"Height\", \"Whole weight\", \"Shucked weight\", \"Viscera weight\", \"Shell weight\"]].to_numpy()\n",
    "\n",
    "y = df[\"Rings\"].to_numpy()"
   ]
  },
  {
   "cell_type": "code",
   "execution_count": 100,
   "metadata": {},
   "outputs": [],
   "source": [
    "X_train_full, X_test, y_train_full, y_test = train_test_split(X, y, test_size=0.2, random_state=42)\n",
    "\n",
    "X_train, X_valid, y_train, y_valid = train_test_split(X_train_full, y_train_full, test_size=0.25, random_state=42)"
   ]
  },
  {
   "cell_type": "code",
   "execution_count": 101,
   "metadata": {},
   "outputs": [
    {
     "data": {
      "text/html": [
       "<style>#sk-container-id-5 {color: black;background-color: white;}#sk-container-id-5 pre{padding: 0;}#sk-container-id-5 div.sk-toggleable {background-color: white;}#sk-container-id-5 label.sk-toggleable__label {cursor: pointer;display: block;width: 100%;margin-bottom: 0;padding: 0.3em;box-sizing: border-box;text-align: center;}#sk-container-id-5 label.sk-toggleable__label-arrow:before {content: \"▸\";float: left;margin-right: 0.25em;color: #696969;}#sk-container-id-5 label.sk-toggleable__label-arrow:hover:before {color: black;}#sk-container-id-5 div.sk-estimator:hover label.sk-toggleable__label-arrow:before {color: black;}#sk-container-id-5 div.sk-toggleable__content {max-height: 0;max-width: 0;overflow: hidden;text-align: left;background-color: #f0f8ff;}#sk-container-id-5 div.sk-toggleable__content pre {margin: 0.2em;color: black;border-radius: 0.25em;background-color: #f0f8ff;}#sk-container-id-5 input.sk-toggleable__control:checked~div.sk-toggleable__content {max-height: 200px;max-width: 100%;overflow: auto;}#sk-container-id-5 input.sk-toggleable__control:checked~label.sk-toggleable__label-arrow:before {content: \"▾\";}#sk-container-id-5 div.sk-estimator input.sk-toggleable__control:checked~label.sk-toggleable__label {background-color: #d4ebff;}#sk-container-id-5 div.sk-label input.sk-toggleable__control:checked~label.sk-toggleable__label {background-color: #d4ebff;}#sk-container-id-5 input.sk-hidden--visually {border: 0;clip: rect(1px 1px 1px 1px);clip: rect(1px, 1px, 1px, 1px);height: 1px;margin: -1px;overflow: hidden;padding: 0;position: absolute;width: 1px;}#sk-container-id-5 div.sk-estimator {font-family: monospace;background-color: #f0f8ff;border: 1px dotted black;border-radius: 0.25em;box-sizing: border-box;margin-bottom: 0.5em;}#sk-container-id-5 div.sk-estimator:hover {background-color: #d4ebff;}#sk-container-id-5 div.sk-parallel-item::after {content: \"\";width: 100%;border-bottom: 1px solid gray;flex-grow: 1;}#sk-container-id-5 div.sk-label:hover label.sk-toggleable__label {background-color: #d4ebff;}#sk-container-id-5 div.sk-serial::before {content: \"\";position: absolute;border-left: 1px solid gray;box-sizing: border-box;top: 0;bottom: 0;left: 50%;z-index: 0;}#sk-container-id-5 div.sk-serial {display: flex;flex-direction: column;align-items: center;background-color: white;padding-right: 0.2em;padding-left: 0.2em;position: relative;}#sk-container-id-5 div.sk-item {position: relative;z-index: 1;}#sk-container-id-5 div.sk-parallel {display: flex;align-items: stretch;justify-content: center;background-color: white;position: relative;}#sk-container-id-5 div.sk-item::before, #sk-container-id-5 div.sk-parallel-item::before {content: \"\";position: absolute;border-left: 1px solid gray;box-sizing: border-box;top: 0;bottom: 0;left: 50%;z-index: -1;}#sk-container-id-5 div.sk-parallel-item {display: flex;flex-direction: column;z-index: 1;position: relative;background-color: white;}#sk-container-id-5 div.sk-parallel-item:first-child::after {align-self: flex-end;width: 50%;}#sk-container-id-5 div.sk-parallel-item:last-child::after {align-self: flex-start;width: 50%;}#sk-container-id-5 div.sk-parallel-item:only-child::after {width: 0;}#sk-container-id-5 div.sk-dashed-wrapped {border: 1px dashed gray;margin: 0 0.4em 0.5em 0.4em;box-sizing: border-box;padding-bottom: 0.4em;background-color: white;}#sk-container-id-5 div.sk-label label {font-family: monospace;font-weight: bold;display: inline-block;line-height: 1.2em;}#sk-container-id-5 div.sk-label-container {text-align: center;}#sk-container-id-5 div.sk-container {/* jupyter's `normalize.less` sets `[hidden] { display: none; }` but bootstrap.min.css set `[hidden] { display: none !important; }` so we also need the `!important` here to be able to override the default hidden behavior on the sphinx rendered scikit-learn.org. See: https://github.com/scikit-learn/scikit-learn/issues/21755 */display: inline-block !important;position: relative;}#sk-container-id-5 div.sk-text-repr-fallback {display: none;}</style><div id=\"sk-container-id-5\" class=\"sk-top-container\"><div class=\"sk-text-repr-fallback\"><pre>KNeighborsClassifier(n_neighbors=7)</pre><b>In a Jupyter environment, please rerun this cell to show the HTML representation or trust the notebook. <br />On GitHub, the HTML representation is unable to render, please try loading this page with nbviewer.org.</b></div><div class=\"sk-container\" hidden><div class=\"sk-item\"><div class=\"sk-estimator sk-toggleable\"><input class=\"sk-toggleable__control sk-hidden--visually\" id=\"sk-estimator-id-5\" type=\"checkbox\" checked><label for=\"sk-estimator-id-5\" class=\"sk-toggleable__label sk-toggleable__label-arrow\">KNeighborsClassifier</label><div class=\"sk-toggleable__content\"><pre>KNeighborsClassifier(n_neighbors=7)</pre></div></div></div></div></div>"
      ],
      "text/plain": [
       "KNeighborsClassifier(n_neighbors=7)"
      ]
     },
     "execution_count": 101,
     "metadata": {},
     "output_type": "execute_result"
    }
   ],
   "source": [
    "model = KNeighborsClassifier(n_neighbors=7)\n",
    "model.fit(X_train, y_train)"
   ]
  },
  {
   "cell_type": "code",
   "execution_count": 102,
   "metadata": {},
   "outputs": [
    {
     "data": {
      "text/plain": [
       "array([10,  7,  7, 10,  3,  7,  8, 10, 10, 10, 13,  9, 15,  9,  7, 10, 12,\n",
       "        9, 12, 10,  5,  9,  6,  4,  6,  6,  6, 10, 11, 10,  9,  9,  7,  7,\n",
       "        8,  7, 11,  9,  8,  5, 10,  9, 10,  9,  9,  6,  8, 15, 11, 11, 14,\n",
       "        9,  8,  9, 10,  9,  9, 10, 11,  7, 10, 10,  5,  7, 17, 11,  9,  6,\n",
       "        8,  9,  5, 10,  9, 10, 11,  8,  6,  8,  8,  9,  7,  9,  7,  9, 12,\n",
       "        9,  9, 13, 11, 10,  7,  9,  7,  7, 13, 10,  9,  9,  9,  7,  6,  9,\n",
       "        5,  6,  6,  9,  6,  7,  5,  9, 11,  7,  9,  8, 10, 10,  7,  9,  8,\n",
       "        9, 10, 10, 10,  9, 10,  9,  8,  7,  8,  7, 10,  7,  8,  9, 13,  8,\n",
       "       11,  4,  6, 10, 10,  8, 10,  9,  8,  6,  5, 10,  8,  8,  8,  9,  8,\n",
       "        4,  8,  9,  6,  8,  7, 18,  7, 11,  8,  7, 16, 10,  9,  8,  8, 11,\n",
       "        7,  9,  5,  9,  7, 10,  7, 11,  9,  8,  9,  7,  8, 10,  6,  8, 10,\n",
       "        7,  8,  9,  5, 10,  9,  8, 13, 11,  9, 11,  6, 10,  9,  9, 10,  7,\n",
       "       10, 10, 12,  9, 10,  9, 10,  5,  7,  9,  8,  3,  9,  7, 10, 16,  8,\n",
       "       10,  9,  6,  8,  4,  9,  8, 10, 12,  9,  9,  8, 11, 10,  8, 13, 12,\n",
       "        9, 10,  6, 12,  9,  6, 11, 10, 10, 11,  5, 10,  8, 11,  7,  7, 11,\n",
       "        5, 10,  8,  9,  8,  9, 10,  8,  9,  9,  7, 11,  9, 10, 10, 10,  9,\n",
       "        8,  6, 11,  9,  7, 11,  9,  9, 10,  7,  8,  9,  6, 10, 10,  7,  7,\n",
       "        9, 10, 10, 15,  9, 10,  8, 12,  9,  7,  5,  8, 10,  7,  8,  9, 10,\n",
       "        9,  7, 10,  8,  8, 11,  7, 10,  9,  7, 15,  8, 10, 10,  5, 11, 10,\n",
       "        9,  5,  8,  7,  6,  8, 10,  8, 10,  9,  9,  5,  8,  8, 13,  9,  9,\n",
       "       12,  9,  8,  9,  9,  9, 12, 10,  9, 10, 11,  7,  9, 12, 10,  7,  9,\n",
       "        9, 10,  8,  9,  7, 10,  9,  9,  8,  8,  7, 11,  9,  6,  6,  9,  9,\n",
       "       11,  8,  6,  8, 12, 16, 17,  7, 10, 10, 11, 10,  9, 16,  9,  6,  9,\n",
       "        5,  8, 17,  9, 10,  7,  9, 10, 10, 16, 13,  7, 11,  6,  9,  8, 13,\n",
       "       11,  9,  9,  6, 11, 17, 11,  8,  5,  7,  7,  9, 10, 10,  9, 10,  9,\n",
       "        8, 13,  8,  9,  6, 10, 10,  9, 11, 13,  7,  9,  8,  6,  7,  9,  9,\n",
       "       10, 10,  8,  5, 13,  9,  8,  6,  7,  9,  9, 11,  7,  6, 10, 13,  9,\n",
       "        8,  9, 10,  8, 10, 11,  9,  6, 11,  7,  9,  5,  8,  9, 11,  8,  9,\n",
       "       21, 10,  5, 10, 11,  8,  8, 10, 10,  8, 11,  9,  7, 10, 10, 11,  6,\n",
       "        8,  9, 10,  9,  9,  7,  8,  8,  9, 14,  8,  9,  4,  6,  6,  4,  8,\n",
       "       11,  8,  9,  7, 10,  9,  9,  8, 10, 11, 11,  8,  7,  8, 13,  8,  8,\n",
       "       10, 10, 10,  8, 10, 10, 13,  7,  9,  9,  8,  9,  9, 10,  8,  9,  8,\n",
       "        8,  9,  9,  8,  8,  9,  9,  9,  9,  6, 11,  8, 10,  8, 11,  9,  7,\n",
       "        5,  7,  9, 11,  9, 11, 11,  7,  8, 10,  9,  8,  8,  9,  8,  9,  8,\n",
       "        8,  6,  8,  5,  8, 10,  7, 10,  9,  9, 10,  7, 11,  7, 11,  8,  9,\n",
       "        7, 13,  7,  8,  9,  7,  9,  8,  8,  4, 14,  9,  8,  8,  8, 10,  9,\n",
       "       11, 10, 10,  9, 10,  9,  7,  7, 11,  8, 13,  8, 11, 10,  6, 11,  8,\n",
       "        9,  7,  9,  9, 10,  7, 10,  8,  7, 16,  9,  9,  5,  9, 11,  8, 11,\n",
       "        9, 10,  7, 12, 10,  9, 13,  7, 16, 10, 10,  8, 10,  9,  7, 10, 10,\n",
       "       11,  9, 15,  8,  7, 10,  9, 10, 11,  9, 10,  7,  4,  8,  8, 10,  9,\n",
       "        8,  9,  8,  8,  8,  8,  8,  8,  9,  8,  9, 11,  9, 10, 10,  8,  6,\n",
       "        9, 10, 10, 10, 15,  9,  9,  6, 11,  9, 10, 10,  9,  9,  8, 10,  9,\n",
       "       12,  7,  6, 16,  8, 10, 11,  9, 10,  9,  9,  7, 10,  8,  9,  4, 11,\n",
       "        8,  9, 10,  7,  9,  5,  9, 11, 12,  9,  7,  8,  7, 12,  5,  9,  9,\n",
       "        9, 11, 10,  8,  6, 11, 11,  5, 11, 11, 10, 10,  8,  6, 10,  6, 11,\n",
       "       10,  9, 11, 14, 13,  8,  8,  9,  9,  9,  7,  4, 10,  7,  9,  8, 13,\n",
       "        8,  8,  6,  7,  6,  9, 10,  8,  8, 10,  8,  7, 10,  7,  9, 11,  8,\n",
       "        9,  9,  8,  7,  6,  9, 11,  9,  7,  9,  5,  7, 10,  9,  9,  6,  5,\n",
       "       12,  7,  6,  7,  6,  6, 10,  8,  9,  9, 13, 11,  9, 12, 10, 10, 17,\n",
       "        9, 13], dtype=int64)"
      ]
     },
     "execution_count": 102,
     "metadata": {},
     "output_type": "execute_result"
    }
   ],
   "source": [
    "y_pred = model.predict(X_valid)\n",
    "y_pred"
   ]
  },
  {
   "cell_type": "code",
   "execution_count": 103,
   "metadata": {},
   "outputs": [
    {
     "data": {
      "text/plain": [
       "0.20239520958083831"
      ]
     },
     "execution_count": 103,
     "metadata": {},
     "output_type": "execute_result"
    }
   ],
   "source": [
    "accuracy_score(y_valid, y_pred)"
   ]
  },
  {
   "cell_type": "code",
   "execution_count": 107,
   "metadata": {},
   "outputs": [
    {
     "data": {
      "text/plain": [
       "array([[ 0,  5,  0,  0,  0,  0,  0,  0,  0,  0,  0,  0,  0,  0,  0,  0,\n",
       "         0,  0,  0,  0,  0,  0],\n",
       "       [ 1,  2,  3,  1,  0,  0,  0,  0,  0,  0,  0,  0,  0,  0,  0,  0,\n",
       "         0,  0,  0,  0,  0,  0],\n",
       "       [ 1,  3,  8,  1,  2,  1,  0,  0,  0,  0,  0,  0,  0,  0,  0,  0,\n",
       "         0,  0,  0,  0,  0,  0],\n",
       "       [ 0,  0, 12, 13, 16,  3,  2,  3,  0,  0,  0,  0,  0,  0,  0,  0,\n",
       "         0,  0,  0,  0,  0,  0],\n",
       "       [ 0,  0,  4, 15, 27, 26, 11,  2,  1,  0,  0,  1,  0,  0,  0,  0,\n",
       "         0,  0,  0,  0,  0,  0],\n",
       "       [ 0,  0,  2, 11, 24, 32, 30, 15,  4,  0,  0,  0,  0,  0,  0,  0,\n",
       "         0,  0,  0,  0,  0,  0],\n",
       "       [ 0,  0,  0,  3, 14, 37, 40, 29,  6,  1,  4,  0,  0,  0,  0,  0,\n",
       "         0,  0,  0,  0,  0,  0],\n",
       "       [ 0,  0,  0,  3,  6, 21, 52, 24, 19,  2,  1,  1,  1,  1,  0,  0,\n",
       "         0,  0,  0,  0,  0,  0],\n",
       "       [ 0,  0,  0,  3,  6, 13, 34, 29, 18,  1,  4,  0,  0,  1,  1,  0,\n",
       "         0,  0,  1,  0,  0,  0],\n",
       "       [ 0,  0,  0,  0,  1,  7, 17, 15, 10,  2,  3,  0,  1,  0,  0,  0,\n",
       "         0,  0,  0,  0,  0,  0],\n",
       "       [ 0,  0,  0,  1,  1,  2,  8, 14,  5,  2,  1,  1,  1,  0,  0,  0,\n",
       "         0,  0,  0,  0,  0,  0],\n",
       "       [ 0,  0,  0,  0,  0,  2,  6,  8,  3,  2,  2,  0,  1,  0,  1,  0,\n",
       "         0,  0,  0,  0,  0,  0],\n",
       "       [ 0,  0,  0,  1,  1,  0,  3,  3,  4,  2,  0,  0,  0,  0,  0,  1,\n",
       "         0,  0,  0,  0,  0,  0],\n",
       "       [ 0,  0,  0,  0,  0,  1,  0,  3,  1,  1,  0,  0,  0,  2,  1,  0,\n",
       "         0,  0,  0,  0,  0,  0],\n",
       "       [ 0,  0,  0,  0,  0,  0,  3,  1,  2,  2,  1,  0,  1,  0,  0,  0,\n",
       "         0,  0,  0,  0,  0,  0],\n",
       "       [ 0,  0,  0,  0,  0,  1,  0,  2,  1,  1,  0,  1,  1,  2,  1,  0,\n",
       "         0,  0,  0,  0,  0,  0],\n",
       "       [ 0,  0,  0,  0,  0,  0,  0,  0,  0,  1,  2,  0,  0,  0,  0,  0,\n",
       "         0,  0,  0,  0,  0,  0],\n",
       "       [ 0,  0,  0,  0,  0,  0,  0,  3,  0,  0,  0,  0,  0,  1,  0,  0,\n",
       "         0,  0,  0,  0,  0,  0],\n",
       "       [ 0,  0,  0,  0,  0,  0,  0,  1,  0,  1,  0,  0,  0,  1,  0,  0,\n",
       "         0,  0,  0,  0,  0,  0],\n",
       "       [ 0,  0,  0,  0,  0,  0,  0,  0,  0,  0,  0,  0,  0,  0,  1,  0,\n",
       "         0,  0,  0,  0,  0,  0],\n",
       "       [ 0,  0,  0,  0,  0,  0,  0,  1,  0,  0,  3,  0,  0,  0,  0,  0,\n",
       "         0,  0,  0,  0,  0,  0],\n",
       "       [ 0,  0,  0,  0,  0,  0,  0,  0,  0,  0,  1,  0,  0,  0,  0,  0,\n",
       "         0,  0,  0,  0,  0,  0]], dtype=int64)"
      ]
     },
     "execution_count": 107,
     "metadata": {},
     "output_type": "execute_result"
    }
   ],
   "source": [
    "cm = confusion_matrix(y_valid, y_pred)\n",
    "cm\n"
   ]
  },
  {
   "cell_type": "code",
   "execution_count": 106,
   "metadata": {},
   "outputs": [
    {
     "data": {
      "image/png": "[encoded data removed]",
      "text/plain": [
       "<Figure size 432x288 with 2 Axes>"
      ]
     },
     "metadata": {
      "needs_background": "light"
     },
     "output_type": "display_data"
    }
   ],
   "source": [
    "sns.heatmap(cm,\n",
    "           annot=True,\n",
    "           annot_kws={\"size\":11},\n",
    "           )\n",
    "plt.xlabel('Predicted')\n",
    "plt.ylabel('Actual');"
   ]
  },
  {
   "cell_type": "code",
   "execution_count": 30,
   "metadata": {},
   "outputs": [
    {
     "name": "stdout",
     "output_type": "stream",
     "text": [
      "              precision    recall  f1-score   support\n",
      "\n",
      "           3       0.00      0.00      0.00         5\n",
      "           4       0.20      0.29      0.24         7\n",
      "           5       0.28      0.50      0.36        16\n",
      "           6       0.25      0.27      0.26        49\n",
      "           7       0.28      0.31      0.29        87\n",
      "           8       0.22      0.27      0.24       118\n",
      "           9       0.19      0.30      0.24       134\n",
      "          10       0.16      0.18      0.17       131\n",
      "          11       0.24      0.16      0.19       111\n",
      "          12       0.11      0.04      0.05        56\n",
      "          13       0.05      0.03      0.03        36\n",
      "          14       0.00      0.00      0.00        25\n",
      "          15       0.00      0.00      0.00        15\n",
      "          16       0.25      0.22      0.24         9\n",
      "          17       0.00      0.00      0.00        10\n",
      "          18       0.00      0.00      0.00        10\n",
      "          19       0.00      0.00      0.00         3\n",
      "          20       0.00      0.00      0.00         4\n",
      "          21       0.00      0.00      0.00         3\n",
      "          22       0.00      0.00      0.00         1\n",
      "          23       0.00      0.00      0.00         4\n",
      "          27       0.00      0.00      0.00         1\n",
      "\n",
      "    accuracy                           0.20       835\n",
      "   macro avg       0.10      0.12      0.10       835\n",
      "weighted avg       0.18      0.20      0.19       835\n",
      "\n"
     ]
    },
    {
     "name": "stderr",
     "output_type": "stream",
     "text": [
      "C:\\Users\\pawn\\anaconda3\\lib\\site-packages\\sklearn\\metrics\\_classification.py:1334: UndefinedMetricWarning: Precision and F-score are ill-defined and being set to 0.0 in labels with no predicted samples. Use `zero_division` parameter to control this behavior.\n",
      "  _warn_prf(average, modifier, msg_start, len(result))\n",
      "C:\\Users\\pawn\\anaconda3\\lib\\site-packages\\sklearn\\metrics\\_classification.py:1334: UndefinedMetricWarning: Precision and F-score are ill-defined and being set to 0.0 in labels with no predicted samples. Use `zero_division` parameter to control this behavior.\n",
      "  _warn_prf(average, modifier, msg_start, len(result))\n",
      "C:\\Users\\pawn\\anaconda3\\lib\\site-packages\\sklearn\\metrics\\_classification.py:1334: UndefinedMetricWarning: Precision and F-score are ill-defined and being set to 0.0 in labels with no predicted samples. Use `zero_division` parameter to control this behavior.\n",
      "  _warn_prf(average, modifier, msg_start, len(result))\n"
     ]
    }
   ],
   "source": [
    "print(classification_report(y_valid, y_pred))"
   ]
  },
  {
   "cell_type": "code",
   "execution_count": 31,
   "metadata": {},
   "outputs": [
    {
     "data": {
      "image/png": "[encoded data removed]",
      "text/plain": [
       "<Figure size 576x432 with 1 Axes>"
      ]
     },
     "metadata": {
      "needs_background": "light"
     },
     "output_type": "display_data"
    }
   ],
   "source": [
    "k_values = []\n",
    "acc_score = []\n",
    "\n",
    "for k in range(1, 50, 2):\n",
    "    model = KNeighborsClassifier(n_neighbors = k)\n",
    "    model.fit(X_train, y_train)\n",
    "    y_pred = model.predict(X_valid)\n",
    "    acc_score.append(accuracy_score(y_valid, y_pred))\n",
    "    k_values.append(k)\n",
    "\n",
    "\n",
    "plt.figure(figsize = (8, 6))\n",
    "\n",
    "plt.plot(k_values, acc_score, marker = \"o\")\n",
    "plt.title(\"Accuracy Score on the Validation Data\")\n",
    "plt.xlabel(\"k\")\n",
    "plt.ylabel(\"accuracy score\")\n",
    "plt.xticks(k_values)\n",
    "plt.grid();"
   ]
  },
  {
   "cell_type": "code",
   "execution_count": 32,
   "metadata": {},
   "outputs": [
    {
     "data": {
      "text/plain": [
       "0.25988023952095807"
      ]
     },
     "execution_count": 32,
     "metadata": {},
     "output_type": "execute_result"
    }
   ],
   "source": [
    "m = max(acc_score)\n",
    "m"
   ]
  },
  {
   "cell_type": "code",
   "execution_count": 33,
   "metadata": {},
   "outputs": [
    {
     "data": {
      "text/plain": [
       "45"
      ]
     },
     "execution_count": 33,
     "metadata": {},
     "output_type": "execute_result"
    }
   ],
   "source": [
    "k_values[acc_score.index(m)]"
   ]
  },
  {
   "cell_type": "code",
   "execution_count": 34,
   "metadata": {},
   "outputs": [
    {
     "data": {
      "text/plain": [
       "0.2583732057416268"
      ]
     },
     "execution_count": 34,
     "metadata": {},
     "output_type": "execute_result"
    }
   ],
   "source": [
    "model = KNeighborsClassifier(n_neighbors = 25)\n",
    "model.fit(X_train, y_train)\n",
    "y_pred = model.predict(X_test)\n",
    "accuracy_score(y_test, y_pred)"
   ]
  },
  {
   "cell_type": "markdown",
   "metadata": {},
   "source": [
    "## 3) Use GridSearchCV and RandomizedSearchCV to select hyper-parameters"
   ]
  },
  {
   "cell_type": "code",
   "execution_count": 35,
   "metadata": {},
   "outputs": [],
   "source": [
    "from sklearn.model_selection import cross_val_score, GridSearchCV, RandomizedSearchCV"
   ]
  },
  {
   "cell_type": "code",
   "execution_count": 36,
   "metadata": {},
   "outputs": [],
   "source": [
    "X = df[[\"Length\", \"Diameter\", \"Height\", \"Whole weight\", \"Shucked weight\", \"Viscera weight\", \"Shell weight\"]].to_numpy()\n",
    "\n",
    "y = df[\"Rings\"].to_numpy()\n",
    "\n",
    "X_train, X_test, y_train, y_test = train_test_split(X, y, test_size=0.2, random_state=42)"
   ]
  },
  {
   "cell_type": "code",
   "execution_count": 37,
   "metadata": {},
   "outputs": [
    {
     "name": "stderr",
     "output_type": "stream",
     "text": [
      "C:\\Users\\pawn\\anaconda3\\lib\\site-packages\\sklearn\\model_selection\\_split.py:684: UserWarning: The least populated class in y has only 1 members, which is less than n_splits=5.\n",
      "  warnings.warn(\n"
     ]
    },
    {
     "data": {
      "text/plain": [
       "array([0.25149701, 0.23203593, 0.25299401, 0.26047904, 0.23652695])"
      ]
     },
     "execution_count": 37,
     "metadata": {},
     "output_type": "execute_result"
    }
   ],
   "source": [
    "cv_scores = cross_val_score(KNeighborsClassifier(n_neighbors=10), \n",
    "                            X_train, \n",
    "                            y_train, \n",
    "                            cv=5, # no shuffle, stratified for classifiers, default value 5\n",
    "                            #cv=KFold(n_splits=5, shuffle=True), \n",
    "                            #cv=StratifiedKFold(n_splits=5, shuffle=True),\n",
    "                            #cv=RepeatedKFold(n_splits=5, n_repeats=3),\n",
    "                            scoring='accuracy')\n",
    "\n",
    "cv_scores"
   ]
  },
  {
   "cell_type": "code",
   "execution_count": 38,
   "metadata": {},
   "outputs": [
    {
     "name": "stdout",
     "output_type": "stream",
     "text": [
      "[0.25 0.23 0.25 0.26 0.24]\n",
      "Average accuracy: 0.2467065868263473\n",
      "Accuracy standard deviation: 0.01068656784285913\n"
     ]
    },
    {
     "data": {
      "image/png": "[encoded data removed]",
      "text/plain": [
       "<Figure size 432x288 with 1 Axes>"
      ]
     },
     "metadata": {
      "needs_background": "light"
     },
     "output_type": "display_data"
    }
   ],
   "source": [
    "plt.plot(range(1, 6), cv_scores, marker='o')\n",
    "plt.ylim(0, 1)\n",
    "plt.ylabel('Accuracy score', fontsize=15)\n",
    "plt.xlabel('Fold', fontsize=15)\n",
    "plt.xticks(range(1,6))\n",
    "\n",
    "print(np.round(cv_scores,2))\n",
    "print('Average accuracy:', cv_scores.mean())\n",
    "print('Accuracy standard deviation:', cv_scores.std());  "
   ]
  },
  {
   "cell_type": "code",
   "execution_count": 39,
   "metadata": {},
   "outputs": [
    {
     "name": "stderr",
     "output_type": "stream",
     "text": [
      "C:\\Users\\pawn\\anaconda3\\lib\\site-packages\\sklearn\\model_selection\\_split.py:684: UserWarning: The least populated class in y has only 1 members, which is less than n_splits=5.\n",
      "  warnings.warn(\n"
     ]
    },
    {
     "data": {
      "text/plain": [
       "{'mean_fit_time': array([0.04521074, 0.01177478, 0.01606874, 0.01332402, 0.01214342,\n",
       "        0.01663246, 0.01264958, 0.01749902, 0.01128778, 0.01253023,\n",
       "        0.01254454, 0.0150785 , 0.01810045, 0.01365094, 0.01789818,\n",
       "        0.01432858, 0.01027241, 0.0171886 , 0.01698208, 0.01332316,\n",
       "        0.02049823, 0.01923828, 0.02477965, 0.01833982, 0.02103601,\n",
       "        0.01474705, 0.01202278, 0.01455398, 0.01295953, 0.01232672,\n",
       "        0.02494516, 0.01301432, 0.0194931 , 0.01903844, 0.01264229,\n",
       "        0.01052141, 0.01373162, 0.01424832, 0.0168714 , 0.01024842,\n",
       "        0.01567965, 0.01548901, 0.01521869, 0.01348376, 0.01590142,\n",
       "        0.01738153, 0.01558995, 0.0160552 , 0.01541882, 0.01550102,\n",
       "        0.04525056, 0.02291236, 0.03819461, 0.01338592, 0.01370358,\n",
       "        0.01874833, 0.03186722, 0.02600288, 0.0144762 , 0.01649318,\n",
       "        0.01826992, 0.02060394, 0.02324815, 0.0137898 , 0.01913276,\n",
       "        0.05635581, 0.01365585, 0.03027711, 0.00934453, 0.01606026,\n",
       "        0.01603408, 0.01114116, 0.0133287 , 0.02129016, 0.01759887,\n",
       "        0.00959444, 0.01985788, 0.0175981 , 0.01440473, 0.01604686,\n",
       "        0.02079525, 0.02291269, 0.01599741, 0.01442637, 0.02559891,\n",
       "        0.01285377, 0.01277919, 0.01602683, 0.01114311, 0.01119771,\n",
       "        0.01599212, 0.02879033, 0.03040814, 0.01759729, 0.00957041,\n",
       "        0.01603441, 0.01149755, 0.01098647, 0.03041739, 0.01255922,\n",
       "        0.013309  , 0.01939387, 0.012607  , 0.01102395, 0.01347685,\n",
       "        0.01234183, 0.01347671, 0.01219487, 0.01330795, 0.01374903,\n",
       "        0.01250477, 0.01249809, 0.00944567, 0.00937624, 0.01416316,\n",
       "        0.0392004 , 0.01828103, 0.0181994 , 0.01395893, 0.0102057 ,\n",
       "        0.01523156, 0.01330609, 0.0138278 , 0.0125267 , 0.00937271,\n",
       "        0.01015539, 0.01245956, 0.01364255, 0.00754809, 0.01043034,\n",
       "        0.01046677, 0.01562648, 0.01568656, 0.00934515, 0.01558127,\n",
       "        0.01619062, 0.01171122, 0.01201348, 0.01531587, 0.01251011,\n",
       "        0.01317849, 0.01293793, 0.01493325, 0.01254354, 0.01183043,\n",
       "        0.00983977, 0.01057343, 0.00754991, 0.01169863, 0.01250062,\n",
       "        0.0124928 , 0.04154921, 0.03602605, 0.01012044, 0.01544833,\n",
       "        0.01485047, 0.01106539, 0.01031423, 0.01432405, 0.01044917,\n",
       "        0.01380258, 0.01198244, 0.01814151, 0.01555943, 0.01679425,\n",
       "        0.01237493, 0.01208849, 0.01456342, 0.01185436, 0.01180849,\n",
       "        0.01565943, 0.01058288, 0.01571264, 0.01376219, 0.01369309,\n",
       "        0.01253438, 0.0168283 , 0.01239161, 0.01963263, 0.01312618,\n",
       "        0.00624938, 0.00937538, 0.0118784 , 0.01692777, 0.01570029,\n",
       "        0.01172409, 0.01067443, 0.00933633, 0.01640401, 0.01370416,\n",
       "        0.0121418 , 0.01418581, 0.01466279, 0.01148601, 0.01028538,\n",
       "        0.01072974, 0.01074114, 0.01224103, 0.01313186, 0.01149917]),\n",
       " 'std_fit_time': array([6.20716558e-02, 6.05320450e-03, 7.88476403e-03, 3.94568251e-03,\n",
       "        3.14428633e-03, 8.98618251e-03, 3.87276536e-03, 4.76382018e-03,\n",
       "        6.42534098e-03, 6.26600124e-03, 3.92646047e-03, 4.22067525e-03,\n",
       "        7.02043867e-03, 3.74945236e-03, 1.04292597e-02, 2.81616605e-03,\n",
       "        4.36820027e-03, 3.12243042e-03, 7.47296911e-03, 3.96435653e-03,\n",
       "        8.07096578e-03, 8.60114684e-03, 9.71459459e-03, 1.15625543e-02,\n",
       "        1.53995646e-02, 5.63907640e-03, 3.19977191e-03, 3.93650012e-03,\n",
       "        2.74171058e-03, 2.68970323e-03, 1.29160455e-02, 3.51195893e-03,\n",
       "        1.40325119e-02, 1.20173582e-02, 2.94114016e-03, 6.42386080e-03,\n",
       "        7.26677499e-03, 2.75074614e-03, 2.44284461e-03, 6.78155973e-03,\n",
       "        5.95867439e-03, 4.58507909e-03, 4.02726503e-03, 2.77304276e-03,\n",
       "        3.84614896e-03, 1.53650687e-03, 1.06585384e-02, 3.47088130e-03,\n",
       "        2.84149227e-03, 4.35616682e-03, 4.86330994e-02, 1.47183861e-02,\n",
       "        4.69217468e-02, 3.31855856e-03, 2.95100281e-03, 3.11323956e-03,\n",
       "        1.94669789e-02, 1.23492717e-02, 1.86677567e-03, 9.12957112e-03,\n",
       "        7.57028103e-03, 1.97745040e-02, 8.09148200e-03, 4.65432711e-03,\n",
       "        1.15704869e-02, 6.23025146e-02, 7.84410035e-03, 3.12053686e-02,\n",
       "        2.77572577e-03, 7.76567925e-05, 8.81617070e-03, 3.91281520e-03,\n",
       "        4.42330015e-03, 1.49702684e-02, 5.98943139e-03, 3.12904593e-03,\n",
       "        1.60339985e-02, 7.83914248e-03, 3.20177282e-03, 5.05086757e-03,\n",
       "        1.39658532e-02, 1.03024108e-02, 5.06078577e-03, 9.31146604e-03,\n",
       "        7.83871407e-03, 3.96611459e-03, 3.90182702e-03, 8.73717555e-03,\n",
       "        3.90483697e-03, 3.91786792e-03, 5.06622105e-03, 1.08513460e-02,\n",
       "        2.36912541e-02, 3.20096021e-03, 3.21371504e-03, 5.00987326e-03,\n",
       "        6.17793986e-03, 6.47419239e-03, 3.57608213e-02, 2.97306381e-03,\n",
       "        4.16779645e-03, 1.00505485e-03, 3.05742905e-03, 1.08749309e-03,\n",
       "        3.98406728e-03, 3.19723383e-03, 3.59745455e-03, 3.13056560e-03,\n",
       "        4.00098258e-03, 3.71390943e-03, 1.75573618e-03, 6.24904714e-03,\n",
       "        7.71264930e-03, 7.65622058e-03, 2.48589277e-03, 2.95321579e-02,\n",
       "        1.15526067e-02, 1.15153656e-02, 3.85167285e-03, 1.01612018e-04,\n",
       "        8.64522974e-04, 5.93662321e-03, 3.58117352e-03, 6.26356641e-03,\n",
       "        7.65278964e-03, 7.78585997e-03, 6.23027748e-03, 6.56963914e-03,\n",
       "        6.41931773e-03, 5.72809293e-03, 4.27393618e-03, 7.52043403e-06,\n",
       "        6.92623659e-05, 7.63047707e-03, 1.21939074e-04, 8.17715055e-03,\n",
       "        4.28710061e-03, 4.12403967e-03, 4.35583427e-03, 3.92629233e-03,\n",
       "        4.48364158e-03, 3.77460840e-03, 4.90308897e-03, 3.92692371e-03,\n",
       "        3.17239622e-03, 8.36153339e-04, 6.46522116e-03, 9.47244653e-03,\n",
       "        3.58759543e-03, 6.25031178e-03, 6.24646024e-03, 3.65088100e-02,\n",
       "        3.30224730e-02, 2.73100755e-05, 3.52886511e-03, 2.79724952e-03,\n",
       "        1.00299561e-03, 1.13405771e-04, 3.83441903e-03, 8.75509302e-03,\n",
       "        3.64425386e-03, 7.75191869e-03, 3.13649371e-03, 7.12023425e-05,\n",
       "        4.22278274e-03, 3.22802118e-03, 3.11383350e-03, 3.91160871e-03,\n",
       "        3.56907952e-03, 7.70837341e-03, 6.12932574e-05, 8.93042191e-03,\n",
       "        8.98744568e-05, 3.80349414e-03, 3.76784284e-03, 6.26833238e-03,\n",
       "        2.47057128e-03, 3.15266508e-03, 5.07991239e-03, 7.30229324e-03,\n",
       "        7.65389624e-03, 7.65496712e-03, 6.06066636e-03, 2.60363077e-03,\n",
       "        1.11161013e-02, 3.84923381e-03, 6.35651047e-03, 7.62331541e-03,\n",
       "        3.04135605e-03, 7.24001070e-03, 1.91476615e-03, 4.22580610e-03,\n",
       "        2.94566133e-03, 9.83476799e-04, 5.85776545e-05, 9.37912332e-04,\n",
       "        8.62239908e-04, 3.11123373e-03, 2.76791812e-03, 1.05235797e-03]),\n",
       " 'mean_score_time': array([0.14017725, 0.01521721, 0.15192947, 0.02270432, 0.13758941,\n",
       "        0.02170944, 0.15758543, 0.03235636, 0.13116226, 0.03070245,\n",
       "        0.14465137, 0.02308111, 0.22841349, 0.03486838, 0.12887869,\n",
       "        0.05309005, 0.12420039, 0.02289848, 0.14816046, 0.03196754,\n",
       "        0.14965906, 0.05975599, 0.20030241, 0.03679528, 0.14937534,\n",
       "        0.03261065, 0.1135561 , 0.02434058, 0.12095366, 0.06117759,\n",
       "        0.18783736, 0.02982726, 0.17231193, 0.04752693, 0.13056617,\n",
       "        0.02951159, 0.11693573, 0.03060083, 0.12147937, 0.03354936,\n",
       "        0.12489729, 0.03682256, 0.14013281, 0.03544893, 0.22034392,\n",
       "        0.03187494, 0.15388374, 0.03079081, 0.12826295, 0.02520423,\n",
       "        0.22764559, 0.0931488 , 0.2416626 , 0.05414681, 0.17182465,\n",
       "        0.05983968, 0.22926059, 0.03987403, 0.17743993, 0.04441137,\n",
       "        0.15514293, 0.06151032, 0.18983703, 0.03040576, 0.20269027,\n",
       "        0.08284507, 0.14504972, 0.03965368, 0.14268637, 0.0415359 ,\n",
       "        0.12321315, 0.03202839, 0.14460692, 0.06536031, 0.2064146 ,\n",
       "        0.05364189, 0.18730459, 0.04959831, 0.19649973, 0.03881512,\n",
       "        0.16639757, 0.16459608, 0.19473662, 0.04636879, 0.20972767,\n",
       "        0.03197079, 0.11681156, 0.03520241, 0.13601942, 0.04002795,\n",
       "        0.20940228, 0.07804565, 0.27681546, 0.03839922, 0.1311625 ,\n",
       "        0.04953465, 0.12389765, 0.0680203 , 0.32168779, 0.04897943,\n",
       "        0.12784052, 0.03120837, 0.11533537, 0.03414736, 0.11754899,\n",
       "        0.03312988, 0.11346645, 0.03498721, 0.1168725 , 0.03129449,\n",
       "        0.12028909, 0.03203764, 0.11709099, 0.03563848, 0.11321969,\n",
       "        0.07887812, 0.16375318, 0.05107493, 0.1159379 , 0.03443012,\n",
       "        0.11431608, 0.03124619, 0.11572762, 0.03506265, 0.12651305,\n",
       "        0.0375071 , 0.11594615, 0.03114624, 0.11840563, 0.03721523,\n",
       "        0.12043791, 0.04132614, 0.11707892, 0.04142976, 0.13223023,\n",
       "        0.06195669, 0.14229426, 0.04380126, 0.13215208, 0.04202042,\n",
       "        0.11901879, 0.04573007, 0.1205277 , 0.04211259, 0.1205441 ,\n",
       "        0.04708948, 0.11704984, 0.04678593, 0.12220712, 0.04323387,\n",
       "        0.11832628, 0.10985742, 0.25169988, 0.05221133, 0.11516142,\n",
       "        0.03688011, 0.11675081, 0.0388061 , 0.11852751, 0.04651165,\n",
       "        0.11901636, 0.04191685, 0.11576648, 0.03707433, 0.13505812,\n",
       "        0.04292307, 0.12118111, 0.04045992, 0.12021503, 0.04191995,\n",
       "        0.11712646, 0.04328613, 0.11699176, 0.04009671, 0.11710215,\n",
       "        0.04002681, 0.1165801 , 0.04068742, 0.16951447, 0.04443383,\n",
       "        0.12656975, 0.04765787, 0.12850246, 0.05550685, 0.13239565,\n",
       "        0.04591837, 0.12513323, 0.04772606, 0.11945381, 0.043155  ,\n",
       "        0.12206507, 0.04253583, 0.12386923, 0.04278626, 0.12385898,\n",
       "        0.04531565, 0.12320442, 0.04529347, 0.12153802, 0.04269795]),\n",
       " 'std_score_time': array([2.76566357e-02, 9.09960976e-03, 5.01409816e-02, 3.87609861e-03,\n",
       "        1.51415593e-02, 4.41293893e-03, 6.16960679e-02, 9.13049989e-03,\n",
       "        2.45712186e-02, 1.10711832e-02, 5.47829144e-02, 3.76955526e-03,\n",
       "        7.03540129e-02, 1.48799022e-02, 1.97662369e-02, 5.85592365e-02,\n",
       "        1.44326022e-02, 5.41491456e-03, 2.60936852e-02, 1.01336107e-02,\n",
       "        5.19303188e-02, 2.98314437e-02, 6.53062527e-02, 1.24021305e-02,\n",
       "        3.84674230e-02, 1.34152791e-02, 3.74932557e-03, 7.10579595e-03,\n",
       "        6.39860024e-03, 4.13803026e-02, 3.23969560e-02, 1.64094953e-03,\n",
       "        2.94688353e-02, 2.30433454e-02, 8.72400963e-03, 7.33883482e-03,\n",
       "        1.03587687e-02, 5.32811789e-03, 9.21771847e-03, 1.38849839e-02,\n",
       "        5.65803585e-03, 6.29173789e-03, 2.41579245e-02, 7.30880376e-03,\n",
       "        6.48251826e-02, 8.62730083e-03, 6.61248718e-02, 9.13634046e-03,\n",
       "        1.34944733e-02, 4.33227730e-03, 9.56770884e-02, 5.46312095e-02,\n",
       "        8.91653770e-02, 1.82448311e-02, 6.01887431e-02, 1.70955027e-02,\n",
       "        2.59205648e-02, 9.44751108e-03, 2.78833380e-02, 1.56961701e-02,\n",
       "        1.45693157e-02, 3.32537658e-02, 4.03379228e-02, 6.50905863e-03,\n",
       "        1.73667558e-01, 7.39065659e-02, 6.35821499e-02, 1.69234821e-02,\n",
       "        4.57597049e-02, 1.17223603e-02, 8.12005937e-03, 1.06105579e-04,\n",
       "        3.20281276e-02, 3.53105829e-02, 7.58405918e-02, 3.92294108e-02,\n",
       "        4.92519517e-02, 2.11021487e-02, 8.66330061e-02, 9.01469010e-03,\n",
       "        3.41001410e-02, 8.88584995e-02, 7.62959394e-02, 9.30220957e-03,\n",
       "        4.80798980e-02, 5.06204420e-03, 3.84310460e-03, 6.39940083e-03,\n",
       "        8.84115036e-03, 5.01641394e-03, 3.66624259e-02, 1.92056866e-02,\n",
       "        1.37834188e-01, 5.98605265e-03, 8.12269724e-03, 1.18080300e-02,\n",
       "        2.30189390e-02, 6.28105800e-02, 1.08813115e-01, 7.78044098e-03,\n",
       "        4.47654384e-03, 9.53394773e-04, 5.01178034e-03, 4.53326043e-03,\n",
       "        8.25797473e-03, 3.05278645e-03, 3.63277872e-03, 4.72244395e-03,\n",
       "        3.85256141e-03, 1.00818363e-03, 8.88888344e-03, 5.74032293e-03,\n",
       "        2.65596901e-03, 6.04812060e-03, 6.81052606e-03, 3.01618402e-02,\n",
       "        9.68507253e-02, 2.43954561e-02, 4.09439820e-03, 3.55512872e-03,\n",
       "        2.77275643e-03, 9.85713640e-05, 1.13718354e-04, 8.35006113e-03,\n",
       "        5.87361326e-03, 7.65294677e-03, 3.22766848e-03, 2.95255836e-04,\n",
       "        3.51022108e-03, 8.01113059e-03, 3.57940496e-03, 9.96651429e-03,\n",
       "        8.18742287e-03, 4.58774960e-03, 2.43034546e-02, 2.98107390e-02,\n",
       "        5.96506409e-03, 4.03297985e-03, 6.40113488e-03, 3.20830407e-03,\n",
       "        7.76079681e-03, 5.27785163e-03, 3.72993721e-03, 3.21011266e-03,\n",
       "        3.22351253e-03, 1.28380655e-02, 2.32722748e-03, 8.71314935e-03,\n",
       "        8.22423949e-03, 7.78703454e-03, 3.05235147e-03, 5.32084850e-02,\n",
       "        8.11251269e-02, 9.14562656e-03, 3.40868882e-03, 4.03461734e-03,\n",
       "        4.91301590e-03, 4.13036125e-03, 4.47082283e-03, 5.34002427e-03,\n",
       "        6.24992966e-03, 8.86279858e-03, 1.92582326e-04, 5.72076244e-03,\n",
       "        2.38447446e-02, 3.19825182e-03, 1.29670421e-03, 5.09254007e-03,\n",
       "        5.17011732e-03, 8.94623854e-03, 8.02878407e-03, 7.81535688e-03,\n",
       "        2.60809114e-03, 6.07145243e-03, 2.73103342e-03, 6.04691347e-03,\n",
       "        6.69359546e-03, 1.00745951e-03, 6.61135660e-02, 7.30220421e-03,\n",
       "        6.40291140e-03, 5.74404114e-03, 1.07584789e-02, 1.92161961e-02,\n",
       "        1.31427292e-02, 4.01421225e-03, 7.78178214e-03, 1.14228802e-02,\n",
       "        1.25461052e-02, 7.74335495e-03, 1.57558809e-03, 3.15346207e-03,\n",
       "        7.28719643e-03, 3.39208325e-03, 3.40530022e-03, 5.25122818e-03,\n",
       "        1.80790283e-03, 4.19070188e-03, 1.07714420e-03, 3.30274123e-03]),\n",
       " 'param_n_neighbors': masked_array(data=[1, 1, 1, 1, 2, 2, 2, 2, 3, 3, 3, 3, 4, 4, 4, 4, 5, 5,\n",
       "                    5, 5, 6, 6, 6, 6, 7, 7, 7, 7, 8, 8, 8, 8, 9, 9, 9, 9,\n",
       "                    10, 10, 10, 10, 11, 11, 11, 11, 12, 12, 12, 12, 13, 13,\n",
       "                    13, 13, 14, 14, 14, 14, 15, 15, 15, 15, 16, 16, 16, 16,\n",
       "                    17, 17, 17, 17, 18, 18, 18, 18, 19, 19, 19, 19, 20, 20,\n",
       "                    20, 20, 21, 21, 21, 21, 22, 22, 22, 22, 23, 23, 23, 23,\n",
       "                    24, 24, 24, 24, 25, 25, 25, 25, 26, 26, 26, 26, 27, 27,\n",
       "                    27, 27, 28, 28, 28, 28, 29, 29, 29, 29, 30, 30, 30, 30,\n",
       "                    31, 31, 31, 31, 32, 32, 32, 32, 33, 33, 33, 33, 34, 34,\n",
       "                    34, 34, 35, 35, 35, 35, 36, 36, 36, 36, 37, 37, 37, 37,\n",
       "                    38, 38, 38, 38, 39, 39, 39, 39, 40, 40, 40, 40, 41, 41,\n",
       "                    41, 41, 42, 42, 42, 42, 43, 43, 43, 43, 44, 44, 44, 44,\n",
       "                    45, 45, 45, 45, 46, 46, 46, 46, 47, 47, 47, 47, 48, 48,\n",
       "                    48, 48, 49, 49, 49, 49, 50, 50, 50, 50],\n",
       "              mask=[False, False, False, False, False, False, False, False,\n",
       "                    False, False, False, False, False, False, False, False,\n",
       "                    False, False, False, False, False, False, False, False,\n",
       "                    False, False, False, False, False, False, False, False,\n",
       "                    False, False, False, False, False, False, False, False,\n",
       "                    False, False, False, False, False, False, False, False,\n",
       "                    False, False, False, False, False, False, False, False,\n",
       "                    False, False, False, False, False, False, False, False,\n",
       "                    False, False, False, False, False, False, False, False,\n",
       "                    False, False, False, False, False, False, False, False,\n",
       "                    False, False, False, False, False, False, False, False,\n",
       "                    False, False, False, False, False, False, False, False,\n",
       "                    False, False, False, False, False, False, False, False,\n",
       "                    False, False, False, False, False, False, False, False,\n",
       "                    False, False, False, False, False, False, False, False,\n",
       "                    False, False, False, False, False, False, False, False,\n",
       "                    False, False, False, False, False, False, False, False,\n",
       "                    False, False, False, False, False, False, False, False,\n",
       "                    False, False, False, False, False, False, False, False,\n",
       "                    False, False, False, False, False, False, False, False,\n",
       "                    False, False, False, False, False, False, False, False,\n",
       "                    False, False, False, False, False, False, False, False,\n",
       "                    False, False, False, False, False, False, False, False,\n",
       "                    False, False, False, False, False, False, False, False,\n",
       "                    False, False, False, False, False, False, False, False],\n",
       "        fill_value='?',\n",
       "             dtype=object),\n",
       " 'param_p': masked_array(data=[1, 1, 2, 2, 1, 1, 2, 2, 1, 1, 2, 2, 1, 1, 2, 2, 1, 1,\n",
       "                    2, 2, 1, 1, 2, 2, 1, 1, 2, 2, 1, 1, 2, 2, 1, 1, 2, 2,\n",
       "                    1, 1, 2, 2, 1, 1, 2, 2, 1, 1, 2, 2, 1, 1, 2, 2, 1, 1,\n",
       "                    2, 2, 1, 1, 2, 2, 1, 1, 2, 2, 1, 1, 2, 2, 1, 1, 2, 2,\n",
       "                    1, 1, 2, 2, 1, 1, 2, 2, 1, 1, 2, 2, 1, 1, 2, 2, 1, 1,\n",
       "                    2, 2, 1, 1, 2, 2, 1, 1, 2, 2, 1, 1, 2, 2, 1, 1, 2, 2,\n",
       "                    1, 1, 2, 2, 1, 1, 2, 2, 1, 1, 2, 2, 1, 1, 2, 2, 1, 1,\n",
       "                    2, 2, 1, 1, 2, 2, 1, 1, 2, 2, 1, 1, 2, 2, 1, 1, 2, 2,\n",
       "                    1, 1, 2, 2, 1, 1, 2, 2, 1, 1, 2, 2, 1, 1, 2, 2, 1, 1,\n",
       "                    2, 2, 1, 1, 2, 2, 1, 1, 2, 2, 1, 1, 2, 2, 1, 1, 2, 2,\n",
       "                    1, 1, 2, 2, 1, 1, 2, 2, 1, 1, 2, 2, 1, 1, 2, 2, 1, 1,\n",
       "                    2, 2],\n",
       "              mask=[False, False, False, False, False, False, False, False,\n",
       "                    False, False, False, False, False, False, False, False,\n",
       "                    False, False, False, False, False, False, False, False,\n",
       "                    False, False, False, False, False, False, False, False,\n",
       "                    False, False, False, False, False, False, False, False,\n",
       "                    False, False, False, False, False, False, False, False,\n",
       "                    False, False, False, False, False, False, False, False,\n",
       "                    False, False, False, False, False, False, False, False,\n",
       "                    False, False, False, False, False, False, False, False,\n",
       "                    False, False, False, False, False, False, False, False,\n",
       "                    False, False, False, False, False, False, False, False,\n",
       "                    False, False, False, False, False, False, False, False,\n",
       "                    False, False, False, False, False, False, False, False,\n",
       "                    False, False, False, False, False, False, False, False,\n",
       "                    False, False, False, False, False, False, False, False,\n",
       "                    False, False, False, False, False, False, False, False,\n",
       "                    False, False, False, False, False, False, False, False,\n",
       "                    False, False, False, False, False, False, False, False,\n",
       "                    False, False, False, False, False, False, False, False,\n",
       "                    False, False, False, False, False, False, False, False,\n",
       "                    False, False, False, False, False, False, False, False,\n",
       "                    False, False, False, False, False, False, False, False,\n",
       "                    False, False, False, False, False, False, False, False,\n",
       "                    False, False, False, False, False, False, False, False,\n",
       "                    False, False, False, False, False, False, False, False],\n",
       "        fill_value='?',\n",
       "             dtype=object),\n",
       " 'param_weights': masked_array(data=['uniform', 'distance', 'uniform', 'distance',\n",
       "                    'uniform', 'distance', 'uniform', 'distance',\n",
       "                    'uniform', 'distance', 'uniform', 'distance',\n",
       "                    'uniform', 'distance', 'uniform', 'distance',\n",
       "                    'uniform', 'distance', 'uniform', 'distance',\n",
       "                    'uniform', 'distance', 'uniform', 'distance',\n",
       "                    'uniform', 'distance', 'uniform', 'distance',\n",
       "                    'uniform', 'distance', 'uniform', 'distance',\n",
       "                    'uniform', 'distance', 'uniform', 'distance',\n",
       "                    'uniform', 'distance', 'uniform', 'distance',\n",
       "                    'uniform', 'distance', 'uniform', 'distance',\n",
       "                    'uniform', 'distance', 'uniform', 'distance',\n",
       "                    'uniform', 'distance', 'uniform', 'distance',\n",
       "                    'uniform', 'distance', 'uniform', 'distance',\n",
       "                    'uniform', 'distance', 'uniform', 'distance',\n",
       "                    'uniform', 'distance', 'uniform', 'distance',\n",
       "                    'uniform', 'distance', 'uniform', 'distance',\n",
       "                    'uniform', 'distance', 'uniform', 'distance',\n",
       "                    'uniform', 'distance', 'uniform', 'distance',\n",
       "                    'uniform', 'distance', 'uniform', 'distance',\n",
       "                    'uniform', 'distance', 'uniform', 'distance',\n",
       "                    'uniform', 'distance', 'uniform', 'distance',\n",
       "                    'uniform', 'distance', 'uniform', 'distance',\n",
       "                    'uniform', 'distance', 'uniform', 'distance',\n",
       "                    'uniform', 'distance', 'uniform', 'distance',\n",
       "                    'uniform', 'distance', 'uniform', 'distance',\n",
       "                    'uniform', 'distance', 'uniform', 'distance',\n",
       "                    'uniform', 'distance', 'uniform', 'distance',\n",
       "                    'uniform', 'distance', 'uniform', 'distance',\n",
       "                    'uniform', 'distance', 'uniform', 'distance',\n",
       "                    'uniform', 'distance', 'uniform', 'distance',\n",
       "                    'uniform', 'distance', 'uniform', 'distance',\n",
       "                    'uniform', 'distance', 'uniform', 'distance',\n",
       "                    'uniform', 'distance', 'uniform', 'distance',\n",
       "                    'uniform', 'distance', 'uniform', 'distance',\n",
       "                    'uniform', 'distance', 'uniform', 'distance',\n",
       "                    'uniform', 'distance', 'uniform', 'distance',\n",
       "                    'uniform', 'distance', 'uniform', 'distance',\n",
       "                    'uniform', 'distance', 'uniform', 'distance',\n",
       "                    'uniform', 'distance', 'uniform', 'distance',\n",
       "                    'uniform', 'distance', 'uniform', 'distance',\n",
       "                    'uniform', 'distance', 'uniform', 'distance',\n",
       "                    'uniform', 'distance', 'uniform', 'distance',\n",
       "                    'uniform', 'distance', 'uniform', 'distance',\n",
       "                    'uniform', 'distance', 'uniform', 'distance',\n",
       "                    'uniform', 'distance', 'uniform', 'distance',\n",
       "                    'uniform', 'distance', 'uniform', 'distance',\n",
       "                    'uniform', 'distance', 'uniform', 'distance',\n",
       "                    'uniform', 'distance', 'uniform', 'distance',\n",
       "                    'uniform', 'distance', 'uniform', 'distance'],\n",
       "              mask=[False, False, False, False, False, False, False, False,\n",
       "                    False, False, False, False, False, False, False, False,\n",
       "                    False, False, False, False, False, False, False, False,\n",
       "                    False, False, False, False, False, False, False, False,\n",
       "                    False, False, False, False, False, False, False, False,\n",
       "                    False, False, False, False, False, False, False, False,\n",
       "                    False, False, False, False, False, False, False, False,\n",
       "                    False, False, False, False, False, False, False, False,\n",
       "                    False, False, False, False, False, False, False, False,\n",
       "                    False, False, False, False, False, False, False, False,\n",
       "                    False, False, False, False, False, False, False, False,\n",
       "                    False, False, False, False, False, False, False, False,\n",
       "                    False, False, False, False, False, False, False, False,\n",
       "                    False, False, False, False, False, False, False, False,\n",
       "                    False, False, False, False, False, False, False, False,\n",
       "                    False, False, False, False, False, False, False, False,\n",
       "                    False, False, False, False, False, False, False, False,\n",
       "                    False, False, False, False, False, False, False, False,\n",
       "                    False, False, False, False, False, False, False, False,\n",
       "                    False, False, False, False, False, False, False, False,\n",
       "                    False, False, False, False, False, False, False, False,\n",
       "                    False, False, False, False, False, False, False, False,\n",
       "                    False, False, False, False, False, False, False, False,\n",
       "                    False, False, False, False, False, False, False, False,\n",
       "                    False, False, False, False, False, False, False, False],\n",
       "        fill_value='?',\n",
       "             dtype=object),\n",
       " 'params': [{'n_neighbors': 1, 'p': 1, 'weights': 'uniform'},\n",
       "  {'n_neighbors': 1, 'p': 1, 'weights': 'distance'},\n",
       "  {'n_neighbors': 1, 'p': 2, 'weights': 'uniform'},\n",
       "  {'n_neighbors': 1, 'p': 2, 'weights': 'distance'},\n",
       "  {'n_neighbors': 2, 'p': 1, 'weights': 'uniform'},\n",
       "  {'n_neighbors': 2, 'p': 1, 'weights': 'distance'},\n",
       "  {'n_neighbors': 2, 'p': 2, 'weights': 'uniform'},\n",
       "  {'n_neighbors': 2, 'p': 2, 'weights': 'distance'},\n",
       "  {'n_neighbors': 3, 'p': 1, 'weights': 'uniform'},\n",
       "  {'n_neighbors': 3, 'p': 1, 'weights': 'distance'},\n",
       "  {'n_neighbors': 3, 'p': 2, 'weights': 'uniform'},\n",
       "  {'n_neighbors': 3, 'p': 2, 'weights': 'distance'},\n",
       "  {'n_neighbors': 4, 'p': 1, 'weights': 'uniform'},\n",
       "  {'n_neighbors': 4, 'p': 1, 'weights': 'distance'},\n",
       "  {'n_neighbors': 4, 'p': 2, 'weights': 'uniform'},\n",
       "  {'n_neighbors': 4, 'p': 2, 'weights': 'distance'},\n",
       "  {'n_neighbors': 5, 'p': 1, 'weights': 'uniform'},\n",
       "  {'n_neighbors': 5, 'p': 1, 'weights': 'distance'},\n",
       "  {'n_neighbors': 5, 'p': 2, 'weights': 'uniform'},\n",
       "  {'n_neighbors': 5, 'p': 2, 'weights': 'distance'},\n",
       "  {'n_neighbors': 6, 'p': 1, 'weights': 'uniform'},\n",
       "  {'n_neighbors': 6, 'p': 1, 'weights': 'distance'},\n",
       "  {'n_neighbors': 6, 'p': 2, 'weights': 'uniform'},\n",
       "  {'n_neighbors': 6, 'p': 2, 'weights': 'distance'},\n",
       "  {'n_neighbors': 7, 'p': 1, 'weights': 'uniform'},\n",
       "  {'n_neighbors': 7, 'p': 1, 'weights': 'distance'},\n",
       "  {'n_neighbors': 7, 'p': 2, 'weights': 'uniform'},\n",
       "  {'n_neighbors': 7, 'p': 2, 'weights': 'distance'},\n",
       "  {'n_neighbors': 8, 'p': 1, 'weights': 'uniform'},\n",
       "  {'n_neighbors': 8, 'p': 1, 'weights': 'distance'},\n",
       "  {'n_neighbors': 8, 'p': 2, 'weights': 'uniform'},\n",
       "  {'n_neighbors': 8, 'p': 2, 'weights': 'distance'},\n",
       "  {'n_neighbors': 9, 'p': 1, 'weights': 'uniform'},\n",
       "  {'n_neighbors': 9, 'p': 1, 'weights': 'distance'},\n",
       "  {'n_neighbors': 9, 'p': 2, 'weights': 'uniform'},\n",
       "  {'n_neighbors': 9, 'p': 2, 'weights': 'distance'},\n",
       "  {'n_neighbors': 10, 'p': 1, 'weights': 'uniform'},\n",
       "  {'n_neighbors': 10, 'p': 1, 'weights': 'distance'},\n",
       "  {'n_neighbors': 10, 'p': 2, 'weights': 'uniform'},\n",
       "  {'n_neighbors': 10, 'p': 2, 'weights': 'distance'},\n",
       "  {'n_neighbors': 11, 'p': 1, 'weights': 'uniform'},\n",
       "  {'n_neighbors': 11, 'p': 1, 'weights': 'distance'},\n",
       "  {'n_neighbors': 11, 'p': 2, 'weights': 'uniform'},\n",
       "  {'n_neighbors': 11, 'p': 2, 'weights': 'distance'},\n",
       "  {'n_neighbors': 12, 'p': 1, 'weights': 'uniform'},\n",
       "  {'n_neighbors': 12, 'p': 1, 'weights': 'distance'},\n",
       "  {'n_neighbors': 12, 'p': 2, 'weights': 'uniform'},\n",
       "  {'n_neighbors': 12, 'p': 2, 'weights': 'distance'},\n",
       "  {'n_neighbors': 13, 'p': 1, 'weights': 'uniform'},\n",
       "  {'n_neighbors': 13, 'p': 1, 'weights': 'distance'},\n",
       "  {'n_neighbors': 13, 'p': 2, 'weights': 'uniform'},\n",
       "  {'n_neighbors': 13, 'p': 2, 'weights': 'distance'},\n",
       "  {'n_neighbors': 14, 'p': 1, 'weights': 'uniform'},\n",
       "  {'n_neighbors': 14, 'p': 1, 'weights': 'distance'},\n",
       "  {'n_neighbors': 14, 'p': 2, 'weights': 'uniform'},\n",
       "  {'n_neighbors': 14, 'p': 2, 'weights': 'distance'},\n",
       "  {'n_neighbors': 15, 'p': 1, 'weights': 'uniform'},\n",
       "  {'n_neighbors': 15, 'p': 1, 'weights': 'distance'},\n",
       "  {'n_neighbors': 15, 'p': 2, 'weights': 'uniform'},\n",
       "  {'n_neighbors': 15, 'p': 2, 'weights': 'distance'},\n",
       "  {'n_neighbors': 16, 'p': 1, 'weights': 'uniform'},\n",
       "  {'n_neighbors': 16, 'p': 1, 'weights': 'distance'},\n",
       "  {'n_neighbors': 16, 'p': 2, 'weights': 'uniform'},\n",
       "  {'n_neighbors': 16, 'p': 2, 'weights': 'distance'},\n",
       "  {'n_neighbors': 17, 'p': 1, 'weights': 'uniform'},\n",
       "  {'n_neighbors': 17, 'p': 1, 'weights': 'distance'},\n",
       "  {'n_neighbors': 17, 'p': 2, 'weights': 'uniform'},\n",
       "  {'n_neighbors': 17, 'p': 2, 'weights': 'distance'},\n",
       "  {'n_neighbors': 18, 'p': 1, 'weights': 'uniform'},\n",
       "  {'n_neighbors': 18, 'p': 1, 'weights': 'distance'},\n",
       "  {'n_neighbors': 18, 'p': 2, 'weights': 'uniform'},\n",
       "  {'n_neighbors': 18, 'p': 2, 'weights': 'distance'},\n",
       "  {'n_neighbors': 19, 'p': 1, 'weights': 'uniform'},\n",
       "  {'n_neighbors': 19, 'p': 1, 'weights': 'distance'},\n",
       "  {'n_neighbors': 19, 'p': 2, 'weights': 'uniform'},\n",
       "  {'n_neighbors': 19, 'p': 2, 'weights': 'distance'},\n",
       "  {'n_neighbors': 20, 'p': 1, 'weights': 'uniform'},\n",
       "  {'n_neighbors': 20, 'p': 1, 'weights': 'distance'},\n",
       "  {'n_neighbors': 20, 'p': 2, 'weights': 'uniform'},\n",
       "  {'n_neighbors': 20, 'p': 2, 'weights': 'distance'},\n",
       "  {'n_neighbors': 21, 'p': 1, 'weights': 'uniform'},\n",
       "  {'n_neighbors': 21, 'p': 1, 'weights': 'distance'},\n",
       "  {'n_neighbors': 21, 'p': 2, 'weights': 'uniform'},\n",
       "  {'n_neighbors': 21, 'p': 2, 'weights': 'distance'},\n",
       "  {'n_neighbors': 22, 'p': 1, 'weights': 'uniform'},\n",
       "  {'n_neighbors': 22, 'p': 1, 'weights': 'distance'},\n",
       "  {'n_neighbors': 22, 'p': 2, 'weights': 'uniform'},\n",
       "  {'n_neighbors': 22, 'p': 2, 'weights': 'distance'},\n",
       "  {'n_neighbors': 23, 'p': 1, 'weights': 'uniform'},\n",
       "  {'n_neighbors': 23, 'p': 1, 'weights': 'distance'},\n",
       "  {'n_neighbors': 23, 'p': 2, 'weights': 'uniform'},\n",
       "  {'n_neighbors': 23, 'p': 2, 'weights': 'distance'},\n",
       "  {'n_neighbors': 24, 'p': 1, 'weights': 'uniform'},\n",
       "  {'n_neighbors': 24, 'p': 1, 'weights': 'distance'},\n",
       "  {'n_neighbors': 24, 'p': 2, 'weights': 'uniform'},\n",
       "  {'n_neighbors': 24, 'p': 2, 'weights': 'distance'},\n",
       "  {'n_neighbors': 25, 'p': 1, 'weights': 'uniform'},\n",
       "  {'n_neighbors': 25, 'p': 1, 'weights': 'distance'},\n",
       "  {'n_neighbors': 25, 'p': 2, 'weights': 'uniform'},\n",
       "  {'n_neighbors': 25, 'p': 2, 'weights': 'distance'},\n",
       "  {'n_neighbors': 26, 'p': 1, 'weights': 'uniform'},\n",
       "  {'n_neighbors': 26, 'p': 1, 'weights': 'distance'},\n",
       "  {'n_neighbors': 26, 'p': 2, 'weights': 'uniform'},\n",
       "  {'n_neighbors': 26, 'p': 2, 'weights': 'distance'},\n",
       "  {'n_neighbors': 27, 'p': 1, 'weights': 'uniform'},\n",
       "  {'n_neighbors': 27, 'p': 1, 'weights': 'distance'},\n",
       "  {'n_neighbors': 27, 'p': 2, 'weights': 'uniform'},\n",
       "  {'n_neighbors': 27, 'p': 2, 'weights': 'distance'},\n",
       "  {'n_neighbors': 28, 'p': 1, 'weights': 'uniform'},\n",
       "  {'n_neighbors': 28, 'p': 1, 'weights': 'distance'},\n",
       "  {'n_neighbors': 28, 'p': 2, 'weights': 'uniform'},\n",
       "  {'n_neighbors': 28, 'p': 2, 'weights': 'distance'},\n",
       "  {'n_neighbors': 29, 'p': 1, 'weights': 'uniform'},\n",
       "  {'n_neighbors': 29, 'p': 1, 'weights': 'distance'},\n",
       "  {'n_neighbors': 29, 'p': 2, 'weights': 'uniform'},\n",
       "  {'n_neighbors': 29, 'p': 2, 'weights': 'distance'},\n",
       "  {'n_neighbors': 30, 'p': 1, 'weights': 'uniform'},\n",
       "  {'n_neighbors': 30, 'p': 1, 'weights': 'distance'},\n",
       "  {'n_neighbors': 30, 'p': 2, 'weights': 'uniform'},\n",
       "  {'n_neighbors': 30, 'p': 2, 'weights': 'distance'},\n",
       "  {'n_neighbors': 31, 'p': 1, 'weights': 'uniform'},\n",
       "  {'n_neighbors': 31, 'p': 1, 'weights': 'distance'},\n",
       "  {'n_neighbors': 31, 'p': 2, 'weights': 'uniform'},\n",
       "  {'n_neighbors': 31, 'p': 2, 'weights': 'distance'},\n",
       "  {'n_neighbors': 32, 'p': 1, 'weights': 'uniform'},\n",
       "  {'n_neighbors': 32, 'p': 1, 'weights': 'distance'},\n",
       "  {'n_neighbors': 32, 'p': 2, 'weights': 'uniform'},\n",
       "  {'n_neighbors': 32, 'p': 2, 'weights': 'distance'},\n",
       "  {'n_neighbors': 33, 'p': 1, 'weights': 'uniform'},\n",
       "  {'n_neighbors': 33, 'p': 1, 'weights': 'distance'},\n",
       "  {'n_neighbors': 33, 'p': 2, 'weights': 'uniform'},\n",
       "  {'n_neighbors': 33, 'p': 2, 'weights': 'distance'},\n",
       "  {'n_neighbors': 34, 'p': 1, 'weights': 'uniform'},\n",
       "  {'n_neighbors': 34, 'p': 1, 'weights': 'distance'},\n",
       "  {'n_neighbors': 34, 'p': 2, 'weights': 'uniform'},\n",
       "  {'n_neighbors': 34, 'p': 2, 'weights': 'distance'},\n",
       "  {'n_neighbors': 35, 'p': 1, 'weights': 'uniform'},\n",
       "  {'n_neighbors': 35, 'p': 1, 'weights': 'distance'},\n",
       "  {'n_neighbors': 35, 'p': 2, 'weights': 'uniform'},\n",
       "  {'n_neighbors': 35, 'p': 2, 'weights': 'distance'},\n",
       "  {'n_neighbors': 36, 'p': 1, 'weights': 'uniform'},\n",
       "  {'n_neighbors': 36, 'p': 1, 'weights': 'distance'},\n",
       "  {'n_neighbors': 36, 'p': 2, 'weights': 'uniform'},\n",
       "  {'n_neighbors': 36, 'p': 2, 'weights': 'distance'},\n",
       "  {'n_neighbors': 37, 'p': 1, 'weights': 'uniform'},\n",
       "  {'n_neighbors': 37, 'p': 1, 'weights': 'distance'},\n",
       "  {'n_neighbors': 37, 'p': 2, 'weights': 'uniform'},\n",
       "  {'n_neighbors': 37, 'p': 2, 'weights': 'distance'},\n",
       "  {'n_neighbors': 38, 'p': 1, 'weights': 'uniform'},\n",
       "  {'n_neighbors': 38, 'p': 1, 'weights': 'distance'},\n",
       "  {'n_neighbors': 38, 'p': 2, 'weights': 'uniform'},\n",
       "  {'n_neighbors': 38, 'p': 2, 'weights': 'distance'},\n",
       "  {'n_neighbors': 39, 'p': 1, 'weights': 'uniform'},\n",
       "  {'n_neighbors': 39, 'p': 1, 'weights': 'distance'},\n",
       "  {'n_neighbors': 39, 'p': 2, 'weights': 'uniform'},\n",
       "  {'n_neighbors': 39, 'p': 2, 'weights': 'distance'},\n",
       "  {'n_neighbors': 40, 'p': 1, 'weights': 'uniform'},\n",
       "  {'n_neighbors': 40, 'p': 1, 'weights': 'distance'},\n",
       "  {'n_neighbors': 40, 'p': 2, 'weights': 'uniform'},\n",
       "  {'n_neighbors': 40, 'p': 2, 'weights': 'distance'},\n",
       "  {'n_neighbors': 41, 'p': 1, 'weights': 'uniform'},\n",
       "  {'n_neighbors': 41, 'p': 1, 'weights': 'distance'},\n",
       "  {'n_neighbors': 41, 'p': 2, 'weights': 'uniform'},\n",
       "  {'n_neighbors': 41, 'p': 2, 'weights': 'distance'},\n",
       "  {'n_neighbors': 42, 'p': 1, 'weights': 'uniform'},\n",
       "  {'n_neighbors': 42, 'p': 1, 'weights': 'distance'},\n",
       "  {'n_neighbors': 42, 'p': 2, 'weights': 'uniform'},\n",
       "  {'n_neighbors': 42, 'p': 2, 'weights': 'distance'},\n",
       "  {'n_neighbors': 43, 'p': 1, 'weights': 'uniform'},\n",
       "  {'n_neighbors': 43, 'p': 1, 'weights': 'distance'},\n",
       "  {'n_neighbors': 43, 'p': 2, 'weights': 'uniform'},\n",
       "  {'n_neighbors': 43, 'p': 2, 'weights': 'distance'},\n",
       "  {'n_neighbors': 44, 'p': 1, 'weights': 'uniform'},\n",
       "  {'n_neighbors': 44, 'p': 1, 'weights': 'distance'},\n",
       "  {'n_neighbors': 44, 'p': 2, 'weights': 'uniform'},\n",
       "  {'n_neighbors': 44, 'p': 2, 'weights': 'distance'},\n",
       "  {'n_neighbors': 45, 'p': 1, 'weights': 'uniform'},\n",
       "  {'n_neighbors': 45, 'p': 1, 'weights': 'distance'},\n",
       "  {'n_neighbors': 45, 'p': 2, 'weights': 'uniform'},\n",
       "  {'n_neighbors': 45, 'p': 2, 'weights': 'distance'},\n",
       "  {'n_neighbors': 46, 'p': 1, 'weights': 'uniform'},\n",
       "  {'n_neighbors': 46, 'p': 1, 'weights': 'distance'},\n",
       "  {'n_neighbors': 46, 'p': 2, 'weights': 'uniform'},\n",
       "  {'n_neighbors': 46, 'p': 2, 'weights': 'distance'},\n",
       "  {'n_neighbors': 47, 'p': 1, 'weights': 'uniform'},\n",
       "  {'n_neighbors': 47, 'p': 1, 'weights': 'distance'},\n",
       "  {'n_neighbors': 47, 'p': 2, 'weights': 'uniform'},\n",
       "  {'n_neighbors': 47, 'p': 2, 'weights': 'distance'},\n",
       "  {'n_neighbors': 48, 'p': 1, 'weights': 'uniform'},\n",
       "  {'n_neighbors': 48, 'p': 1, 'weights': 'distance'},\n",
       "  {'n_neighbors': 48, 'p': 2, 'weights': 'uniform'},\n",
       "  {'n_neighbors': 48, 'p': 2, 'weights': 'distance'},\n",
       "  {'n_neighbors': 49, 'p': 1, 'weights': 'uniform'},\n",
       "  {'n_neighbors': 49, 'p': 1, 'weights': 'distance'},\n",
       "  {'n_neighbors': 49, 'p': 2, 'weights': 'uniform'},\n",
       "  {'n_neighbors': 49, 'p': 2, 'weights': 'distance'},\n",
       "  {'n_neighbors': 50, 'p': 1, 'weights': 'uniform'},\n",
       "  {'n_neighbors': 50, 'p': 1, 'weights': 'distance'},\n",
       "  {'n_neighbors': 50, 'p': 2, 'weights': 'uniform'},\n",
       "  {'n_neighbors': 50, 'p': 2, 'weights': 'distance'}],\n",
       " 'split0_test_score': array([0.2005988 , 0.2005988 , 0.22005988, 0.22005988, 0.23952096,\n",
       "        0.2005988 , 0.24700599, 0.22005988, 0.20958084, 0.21556886,\n",
       "        0.2260479 , 0.23053892, 0.22754491, 0.2260479 , 0.23353293,\n",
       "        0.22754491, 0.22904192, 0.22904192, 0.23652695, 0.23952096,\n",
       "        0.24550898, 0.23203593, 0.25299401, 0.24700599, 0.23952096,\n",
       "        0.23802395, 0.24550898, 0.25598802, 0.23502994, 0.23053892,\n",
       "        0.25149701, 0.24850299, 0.25      , 0.23952096, 0.24101796,\n",
       "        0.24251497, 0.25598802, 0.24700599, 0.25149701, 0.25      ,\n",
       "        0.25748503, 0.24550898, 0.24101796, 0.23652695, 0.25149701,\n",
       "        0.25299401, 0.24401198, 0.23802395, 0.27095808, 0.25898204,\n",
       "        0.25748503, 0.24401198, 0.27694611, 0.26796407, 0.25598802,\n",
       "        0.24401198, 0.27844311, 0.27245509, 0.26047904, 0.23502994,\n",
       "        0.26347305, 0.26347305, 0.26197605, 0.23802395, 0.26946108,\n",
       "        0.26197605, 0.26497006, 0.24550898, 0.26946108, 0.26646707,\n",
       "        0.26497006, 0.25598802, 0.2739521 , 0.26796407, 0.26347305,\n",
       "        0.25598802, 0.27095808, 0.26646707, 0.26946108, 0.26197605,\n",
       "        0.2754491 , 0.26946108, 0.26497006, 0.25898204, 0.26796407,\n",
       "        0.26347305, 0.26497006, 0.26047904, 0.25898204, 0.26347305,\n",
       "        0.25898204, 0.26197605, 0.25748503, 0.27095808, 0.25898204,\n",
       "        0.26347305, 0.26347305, 0.26796407, 0.27245509, 0.26197605,\n",
       "        0.26047904, 0.2739521 , 0.27095808, 0.27095808, 0.26197605,\n",
       "        0.26946108, 0.27095808, 0.26796407, 0.26646707, 0.27694611,\n",
       "        0.26646707, 0.27095808, 0.26796407, 0.27095808, 0.27844311,\n",
       "        0.26646707, 0.27095808, 0.27245509, 0.2739521 , 0.26497006,\n",
       "        0.27694611, 0.27095808, 0.26946108, 0.26497006, 0.2739521 ,\n",
       "        0.2754491 , 0.2754491 , 0.27694611, 0.27994012, 0.28592814,\n",
       "        0.27245509, 0.27994012, 0.28742515, 0.27694611, 0.27245509,\n",
       "        0.27095808, 0.28293413, 0.28293413, 0.27245509, 0.2739521 ,\n",
       "        0.28293413, 0.28293413, 0.27844311, 0.28143713, 0.27694611,\n",
       "        0.28443114, 0.26796407, 0.27844311, 0.26946108, 0.28143713,\n",
       "        0.27095808, 0.27994012, 0.27994012, 0.28443114, 0.27844311,\n",
       "        0.27844311, 0.27095808, 0.28592814, 0.27994012, 0.27994012,\n",
       "        0.2739521 , 0.27994012, 0.28443114, 0.28293413, 0.2754491 ,\n",
       "        0.27994012, 0.27844311, 0.2754491 , 0.27694611, 0.27844311,\n",
       "        0.28443114, 0.27844311, 0.28293413, 0.28293413, 0.28143713,\n",
       "        0.27844311, 0.27994012, 0.28592814, 0.28443114, 0.27694611,\n",
       "        0.27694611, 0.27844311, 0.29341317, 0.27844311, 0.28592814,\n",
       "        0.27994012, 0.27994012, 0.2739521 , 0.28143713, 0.28443114,\n",
       "        0.28293413, 0.27095808, 0.2754491 , 0.27844311, 0.28742515,\n",
       "        0.2739521 , 0.27694611, 0.28293413, 0.28742515, 0.27245509]),\n",
       " 'split1_test_score': array([0.20508982, 0.20508982, 0.20658683, 0.20658683, 0.24251497,\n",
       "        0.20508982, 0.25449102, 0.20658683, 0.23053892, 0.22754491,\n",
       "        0.21107784, 0.20658683, 0.2260479 , 0.22754491, 0.23353293,\n",
       "        0.2245509 , 0.2260479 , 0.23053892, 0.22754491, 0.2245509 ,\n",
       "        0.2260479 , 0.2245509 , 0.2245509 , 0.22305389, 0.23652695,\n",
       "        0.23053892, 0.22904192, 0.23502994, 0.23802395, 0.24101796,\n",
       "        0.23802395, 0.23802395, 0.24251497, 0.24101796, 0.23353293,\n",
       "        0.23652695, 0.25149701, 0.25149701, 0.23203593, 0.23353293,\n",
       "        0.25149701, 0.26197605, 0.24101796, 0.23053892, 0.25149701,\n",
       "        0.25      , 0.23502994, 0.23502994, 0.26497006, 0.24401198,\n",
       "        0.23053892, 0.23952096, 0.25299401, 0.24700599, 0.24101796,\n",
       "        0.24251497, 0.27095808, 0.26646707, 0.23652695, 0.23802395,\n",
       "        0.27994012, 0.26646707, 0.23502994, 0.25149701, 0.2739521 ,\n",
       "        0.27994012, 0.24700599, 0.25449102, 0.28143713, 0.27844311,\n",
       "        0.24700599, 0.26347305, 0.2754491 , 0.2754491 , 0.24550898,\n",
       "        0.24550898, 0.27994012, 0.27245509, 0.25449102, 0.27095808,\n",
       "        0.26646707, 0.2739521 , 0.25449102, 0.26646707, 0.26796407,\n",
       "        0.27245509, 0.26497006, 0.26946108, 0.27095808, 0.2754491 ,\n",
       "        0.26047904, 0.27844311, 0.2754491 , 0.27994012, 0.27095808,\n",
       "        0.27095808, 0.2754491 , 0.28443114, 0.25898204, 0.26646707,\n",
       "        0.28143713, 0.27844311, 0.26497006, 0.2739521 , 0.28293413,\n",
       "        0.27994012, 0.26646707, 0.27245509, 0.27245509, 0.2754491 ,\n",
       "        0.25598802, 0.26047904, 0.27844311, 0.26946108, 0.26497006,\n",
       "        0.26047904, 0.27694611, 0.27694611, 0.25449102, 0.25598802,\n",
       "        0.2754491 , 0.27994012, 0.25149701, 0.25299401, 0.28443114,\n",
       "        0.27994012, 0.25748503, 0.26047904, 0.26796407, 0.2754491 ,\n",
       "        0.26796407, 0.26497006, 0.27694611, 0.28143713, 0.26646707,\n",
       "        0.26646707, 0.27694611, 0.28892216, 0.25598802, 0.26347305,\n",
       "        0.2754491 , 0.28892216, 0.26347305, 0.27095808, 0.27694611,\n",
       "        0.29041916, 0.26646707, 0.2739521 , 0.27245509, 0.28592814,\n",
       "        0.2739521 , 0.27095808, 0.27844311, 0.28293413, 0.27245509,\n",
       "        0.28143713, 0.27095808, 0.28143713, 0.2754491 , 0.28143713,\n",
       "        0.27994012, 0.28443114, 0.27245509, 0.27245509, 0.2754491 ,\n",
       "        0.28892216, 0.26347305, 0.26946108, 0.27245509, 0.28592814,\n",
       "        0.26796407, 0.26347305, 0.2754491 , 0.28742515, 0.26946108,\n",
       "        0.26946108, 0.27844311, 0.29191617, 0.25748503, 0.26347305,\n",
       "        0.28293413, 0.28892216, 0.25748503, 0.27095808, 0.28443114,\n",
       "        0.29041916, 0.26646707, 0.27245509, 0.27844311, 0.29790419,\n",
       "        0.26047904, 0.27095808, 0.27844311, 0.28892216, 0.26946108,\n",
       "        0.27694611, 0.28892216, 0.28592814, 0.26796407, 0.2754491 ]),\n",
       " 'split2_test_score': array([0.23053892, 0.23053892, 0.21107784, 0.21107784, 0.23203593,\n",
       "        0.23053892, 0.2260479 , 0.21107784, 0.24850299, 0.24850299,\n",
       "        0.23203593, 0.22305389, 0.22005988, 0.23952096, 0.23802395,\n",
       "        0.23652695, 0.23502994, 0.25      , 0.24101796, 0.24550898,\n",
       "        0.25149701, 0.24550898, 0.24850299, 0.25149701, 0.26796407,\n",
       "        0.25598802, 0.24401198, 0.23802395, 0.24850299, 0.24251497,\n",
       "        0.23203593, 0.24401198, 0.23353293, 0.24401198, 0.24401198,\n",
       "        0.24700599, 0.23952096, 0.24550898, 0.25299401, 0.25149701,\n",
       "        0.25299401, 0.25898204, 0.25149701, 0.23952096, 0.26047904,\n",
       "        0.24850299, 0.26646707, 0.25149701, 0.26047904, 0.25898204,\n",
       "        0.26197605, 0.25299401, 0.24700599, 0.25449102, 0.25898204,\n",
       "        0.25449102, 0.25898204, 0.26047904, 0.25748503, 0.26047904,\n",
       "        0.25898204, 0.26497006, 0.26946108, 0.26646707, 0.27994012,\n",
       "        0.26047904, 0.2739521 , 0.26946108, 0.28143713, 0.26497006,\n",
       "        0.25898204, 0.26197605, 0.28143713, 0.26197605, 0.2739521 ,\n",
       "        0.26497006, 0.28892216, 0.27694611, 0.26946108, 0.25149701,\n",
       "        0.28443114, 0.2739521 , 0.26646707, 0.25299401, 0.29041916,\n",
       "        0.29191617, 0.28293413, 0.25449102, 0.29191617, 0.28742515,\n",
       "        0.28293413, 0.26197605, 0.30389222, 0.29191617, 0.27694611,\n",
       "        0.2754491 , 0.2994012 , 0.28592814, 0.28293413, 0.2754491 ,\n",
       "        0.28443114, 0.28592814, 0.2754491 , 0.27994012, 0.27994012,\n",
       "        0.27994012, 0.28293413, 0.27694611, 0.28443114, 0.27844311,\n",
       "        0.28592814, 0.27994012, 0.27245509, 0.27994012, 0.27245509,\n",
       "        0.27245509, 0.2754491 , 0.27994012, 0.27095808, 0.26946108,\n",
       "        0.26646707, 0.28443114, 0.2739521 , 0.26796407, 0.27694611,\n",
       "        0.27694611, 0.26946108, 0.26347305, 0.28143713, 0.28293413,\n",
       "        0.26497006, 0.26497006, 0.2754491 , 0.28443114, 0.26796407,\n",
       "        0.26646707, 0.28143713, 0.28443114, 0.2739521 , 0.26946108,\n",
       "        0.28892216, 0.29041916, 0.27844311, 0.26796407, 0.28592814,\n",
       "        0.28742515, 0.28443114, 0.27694611, 0.28742515, 0.28293413,\n",
       "        0.27245509, 0.26796407, 0.28892216, 0.29191617, 0.26646707,\n",
       "        0.26796407, 0.29041916, 0.28293413, 0.26646707, 0.2754491 ,\n",
       "        0.29341317, 0.29041916, 0.27694611, 0.27095808, 0.29640719,\n",
       "        0.28592814, 0.27694611, 0.28143713, 0.28742515, 0.28892216,\n",
       "        0.2739521 , 0.2754491 , 0.28892216, 0.29640719, 0.26497006,\n",
       "        0.26796407, 0.28742515, 0.28742515, 0.27245509, 0.27245509,\n",
       "        0.28443114, 0.28293413, 0.26646707, 0.2739521 , 0.28293413,\n",
       "        0.27844311, 0.26646707, 0.27844311, 0.28143713, 0.27994012,\n",
       "        0.27095808, 0.26796407, 0.28443114, 0.28293413, 0.27095808,\n",
       "        0.27095808, 0.28892216, 0.28742515, 0.26946108, 0.2754491 ]),\n",
       " 'split3_test_score': array([0.19461078, 0.19461078, 0.20209581, 0.20209581, 0.19311377,\n",
       "        0.19461078, 0.20508982, 0.20209581, 0.20359281, 0.20658683,\n",
       "        0.22005988, 0.2245509 , 0.23952096, 0.22305389, 0.23652695,\n",
       "        0.21856287, 0.25748503, 0.2260479 , 0.23353293, 0.21257485,\n",
       "        0.26347305, 0.22904192, 0.23053892, 0.22155689, 0.25748503,\n",
       "        0.23502994, 0.21556886, 0.22155689, 0.26796407, 0.24550898,\n",
       "        0.24251497, 0.21856287, 0.26946108, 0.25449102, 0.24550898,\n",
       "        0.22305389, 0.26946108, 0.26197605, 0.26047904, 0.23502994,\n",
       "        0.26946108, 0.25449102, 0.25299401, 0.22754491, 0.27994012,\n",
       "        0.26946108, 0.27095808, 0.24550898, 0.28293413, 0.27245509,\n",
       "        0.26646707, 0.25299401, 0.28143713, 0.26946108, 0.25449102,\n",
       "        0.25748503, 0.27694611, 0.26946108, 0.25748503, 0.25598802,\n",
       "        0.27994012, 0.27694611, 0.26796407, 0.26197605, 0.29191617,\n",
       "        0.2754491 , 0.26796407, 0.25449102, 0.28143713, 0.2754491 ,\n",
       "        0.26047904, 0.24550898, 0.28742515, 0.27245509, 0.25748503,\n",
       "        0.25299401, 0.27844311, 0.26197605, 0.26796407, 0.26047904,\n",
       "        0.2754491 , 0.27245509, 0.26946108, 0.26646707, 0.27095808,\n",
       "        0.2739521 , 0.26946108, 0.26646707, 0.27844311, 0.2754491 ,\n",
       "        0.25898204, 0.25748503, 0.28592814, 0.27095808, 0.26946108,\n",
       "        0.26646707, 0.27994012, 0.26796407, 0.28293413, 0.26646707,\n",
       "        0.27095808, 0.26497006, 0.2754491 , 0.26946108, 0.26796407,\n",
       "        0.27095808, 0.28143713, 0.27095808, 0.26497006, 0.27245509,\n",
       "        0.28592814, 0.2739521 , 0.26646707, 0.26946108, 0.27994012,\n",
       "        0.27694611, 0.26796407, 0.26047904, 0.28143713, 0.27994012,\n",
       "        0.26047904, 0.25598802, 0.26646707, 0.27994012, 0.25748503,\n",
       "        0.25898204, 0.28143713, 0.2754491 , 0.25748503, 0.25598802,\n",
       "        0.27245509, 0.27694611, 0.26497006, 0.26347305, 0.2739521 ,\n",
       "        0.28143713, 0.25299401, 0.26497006, 0.27245509, 0.28592814,\n",
       "        0.26796407, 0.26946108, 0.2739521 , 0.27245509, 0.26946108,\n",
       "        0.2739521 , 0.2754491 , 0.27994012, 0.27095808, 0.28443114,\n",
       "        0.28293413, 0.27694611, 0.27694611, 0.27994012, 0.28143713,\n",
       "        0.29341317, 0.27095808, 0.27694611, 0.27844311, 0.29341317,\n",
       "        0.2754491 , 0.28143713, 0.27694611, 0.28892216, 0.27844311,\n",
       "        0.29491018, 0.2754491 , 0.29041916, 0.27994012, 0.29191617,\n",
       "        0.27844311, 0.29041916, 0.2754491 , 0.29491018, 0.27844311,\n",
       "        0.29041916, 0.27844311, 0.29041916, 0.2739521 , 0.28443114,\n",
       "        0.27095808, 0.28892216, 0.28143713, 0.28443114, 0.28143713,\n",
       "        0.29640719, 0.27694611, 0.28443114, 0.2754491 , 0.29041916,\n",
       "        0.28892216, 0.28892216, 0.27245509, 0.29191617, 0.27994012,\n",
       "        0.28443114, 0.2739521 , 0.28742515, 0.27994012, 0.29341317]),\n",
       " 'split4_test_score': array([0.22754491, 0.22754491, 0.21556886, 0.21556886, 0.23203593,\n",
       "        0.22904192, 0.22305389, 0.21556886, 0.24251497, 0.23502994,\n",
       "        0.23053892, 0.22754491, 0.20808383, 0.22005988, 0.23802395,\n",
       "        0.23353293, 0.21856287, 0.2245509 , 0.23203593, 0.24401198,\n",
       "        0.2260479 , 0.23053892, 0.24251497, 0.25      , 0.22305389,\n",
       "        0.23502994, 0.23502994, 0.24700599, 0.24700599, 0.24101796,\n",
       "        0.23353293, 0.23802395, 0.23502994, 0.24700599, 0.23652695,\n",
       "        0.24401198, 0.22904192, 0.23952096, 0.23652695, 0.23203593,\n",
       "        0.23053892, 0.2260479 , 0.25299401, 0.24850299, 0.23802395,\n",
       "        0.2260479 , 0.25299401, 0.25149701, 0.23053892, 0.23652695,\n",
       "        0.24850299, 0.24401198, 0.24850299, 0.25299401, 0.25      ,\n",
       "        0.25598802, 0.25299401, 0.24850299, 0.26197605, 0.25299401,\n",
       "        0.25449102, 0.25299401, 0.25898204, 0.26347305, 0.25598802,\n",
       "        0.25      , 0.25598802, 0.25598802, 0.25299401, 0.25      ,\n",
       "        0.24850299, 0.24101796, 0.24550898, 0.24850299, 0.24550898,\n",
       "        0.25      , 0.25748503, 0.25      , 0.23652695, 0.24401198,\n",
       "        0.26347305, 0.25449102, 0.23952096, 0.24850299, 0.25299401,\n",
       "        0.26946108, 0.25598802, 0.25449102, 0.25149701, 0.26497006,\n",
       "        0.25748503, 0.26047904, 0.24401198, 0.26347305, 0.26047904,\n",
       "        0.25449102, 0.24101796, 0.25898204, 0.26197605, 0.24550898,\n",
       "        0.25299401, 0.25449102, 0.25898204, 0.25      , 0.24700599,\n",
       "        0.25299401, 0.26347305, 0.25449102, 0.25299401, 0.25449102,\n",
       "        0.26047904, 0.25299401, 0.25449102, 0.26197605, 0.25449102,\n",
       "        0.26796407, 0.25748503, 0.25598802, 0.26197605, 0.26646707,\n",
       "        0.24850299, 0.25299401, 0.25449102, 0.25898204, 0.25299401,\n",
       "        0.25149701, 0.25598802, 0.25299401, 0.25898204, 0.25598802,\n",
       "        0.25299401, 0.25598802, 0.26347305, 0.25149701, 0.25299401,\n",
       "        0.25898204, 0.25898204, 0.25449102, 0.24401198, 0.24850299,\n",
       "        0.26347305, 0.25748503, 0.24700599, 0.24850299, 0.26796407,\n",
       "        0.26497006, 0.25149701, 0.24251497, 0.26497006, 0.26646707,\n",
       "        0.25449102, 0.24401198, 0.26646707, 0.27095808, 0.25898204,\n",
       "        0.25449102, 0.25898204, 0.26646707, 0.25149701, 0.25      ,\n",
       "        0.25598802, 0.26796407, 0.25748503, 0.25      , 0.25898204,\n",
       "        0.25898204, 0.25449102, 0.24700599, 0.26047904, 0.25898204,\n",
       "        0.25598802, 0.25898204, 0.26796407, 0.25748503, 0.25299401,\n",
       "        0.25299401, 0.26796407, 0.25449102, 0.25898204, 0.24700599,\n",
       "        0.26946108, 0.26047904, 0.26047904, 0.25149701, 0.26946108,\n",
       "        0.26047904, 0.25149701, 0.24700599, 0.27245509, 0.26497006,\n",
       "        0.26347305, 0.24850299, 0.26197605, 0.26047904, 0.27245509,\n",
       "        0.24550898, 0.26946108, 0.25898204, 0.26497006, 0.25299401]),\n",
       " 'mean_test_score': array([0.21167665, 0.21167665, 0.21107784, 0.21107784, 0.22784431,\n",
       "        0.21197605, 0.23113772, 0.21107784, 0.22694611, 0.22664671,\n",
       "        0.2239521 , 0.22245509, 0.2242515 , 0.22724551, 0.23592814,\n",
       "        0.22814371, 0.23323353, 0.23203593, 0.23413174, 0.23323353,\n",
       "        0.24251497, 0.23233533, 0.23982036, 0.23862275, 0.24491018,\n",
       "        0.23892216, 0.23383234, 0.23952096, 0.24730539, 0.24011976,\n",
       "        0.23952096, 0.23742515, 0.24610778, 0.24520958, 0.24011976,\n",
       "        0.23862275, 0.2491018 , 0.2491018 , 0.24670659, 0.24041916,\n",
       "        0.25239521, 0.2494012 , 0.24790419, 0.23652695, 0.25628743,\n",
       "        0.2494012 , 0.25389222, 0.24431138, 0.26197605, 0.25419162,\n",
       "        0.25299401, 0.24670659, 0.26137725, 0.25838323, 0.25209581,\n",
       "        0.2508982 , 0.26766467, 0.26347305, 0.25479042, 0.24850299,\n",
       "        0.26736527, 0.26497006, 0.25868263, 0.25628743, 0.2742515 ,\n",
       "        0.26556886, 0.26197605, 0.25598802, 0.27335329, 0.26706587,\n",
       "        0.25598802, 0.25359281, 0.27275449, 0.26526946, 0.25718563,\n",
       "        0.25389222, 0.2751497 , 0.26556886, 0.25958084, 0.25778443,\n",
       "        0.27305389, 0.26886228, 0.25898204, 0.25868263, 0.27005988,\n",
       "        0.2742515 , 0.26766467, 0.26107784, 0.27035928, 0.27335329,\n",
       "        0.26377246, 0.26407186, 0.27335329, 0.2754491 , 0.26736527,\n",
       "        0.26616766, 0.27185629, 0.27305389, 0.27185629, 0.26317365,\n",
       "        0.27005988, 0.27155689, 0.26916168, 0.26886228, 0.26796407,\n",
       "        0.27065868, 0.27305389, 0.26856287, 0.26826347, 0.27155689,\n",
       "        0.27095808, 0.26766467, 0.26796407, 0.27035928, 0.27005988,\n",
       "        0.26886228, 0.26976048, 0.26916168, 0.26856287, 0.26736527,\n",
       "        0.26556886, 0.26886228, 0.26317365, 0.26497006, 0.26916168,\n",
       "        0.26856287, 0.26796407, 0.26586826, 0.26916168, 0.27125749,\n",
       "        0.26616766, 0.26856287, 0.27365269, 0.27155689, 0.26676647,\n",
       "        0.26886228, 0.27065868, 0.2751497 , 0.26377246, 0.26826347,\n",
       "        0.2757485 , 0.27784431, 0.26826347, 0.26826347, 0.2754491 ,\n",
       "        0.28023952, 0.26916168, 0.27035928, 0.27305389, 0.28023952,\n",
       "        0.27095808, 0.26796407, 0.27814371, 0.28203593, 0.27155689,\n",
       "        0.2751497 , 0.27245509, 0.27874251, 0.27035928, 0.2760479 ,\n",
       "        0.2757485 , 0.28083832, 0.27365269, 0.27305389, 0.27694611,\n",
       "        0.28173653, 0.26976048, 0.27275449, 0.2754491 , 0.28083832,\n",
       "        0.27215569, 0.27335329, 0.27814371, 0.28383234, 0.26946108,\n",
       "        0.27185629, 0.27844311, 0.28203593, 0.26946108, 0.26886228,\n",
       "        0.27694611, 0.27994012, 0.27185629, 0.27185629, 0.28083832,\n",
       "        0.28113772, 0.26826347, 0.27125749, 0.27784431, 0.28353293,\n",
       "        0.27335329, 0.26946108, 0.2745509 , 0.28053892, 0.2760479 ,\n",
       "        0.27035928, 0.27964072, 0.28053892, 0.2739521 , 0.2739521 ]),\n",
       " 'std_test_score': array([0.01459408, 0.01459408, 0.00635126, 0.00635126, 0.01784893,\n",
       "        0.01492808, 0.01770269, 0.00635126, 0.01770269, 0.01465538,\n",
       "        0.00766841, 0.00834035, 0.01025859, 0.00665452, 0.00203064,\n",
       "        0.00639346, 0.01323475, 0.00922816, 0.00450099, 0.01271662,\n",
       "        0.01463701, 0.00704707, 0.01072843, 0.0134097 , 0.01591621,\n",
       "        0.00886147, 0.01093532, 0.01159576, 0.01153375, 0.00506333,\n",
       "        0.00702158, 0.01022358, 0.01307119, 0.0053054 , 0.00450099,\n",
       "        0.00850004, 0.01386974, 0.00749102, 0.01068657, 0.00850004,\n",
       "        0.01261755, 0.0129333 , 0.00564909, 0.0073338 , 0.01383091,\n",
       "        0.01386974, 0.01344308, 0.00678789, 0.01743225, 0.01261044,\n",
       "        0.01270252, 0.00538922, 0.01474684, 0.00881074, 0.00625168,\n",
       "        0.00632297, 0.01003776, 0.00846834, 0.00929591, 0.01010895,\n",
       "        0.01065296, 0.00763326, 0.01243146, 0.01043189, 0.01184055,\n",
       "        0.01081995, 0.0094679 , 0.00769176, 0.01118655, 0.00995706,\n",
       "        0.00702158, 0.0089119 , 0.0144335 , 0.00953394, 0.01089425,\n",
       "        0.00653216, 0.01051747, 0.00930555, 0.01282891, 0.00924757,\n",
       "        0.00743094, 0.00737038, 0.01095988, 0.00717314, 0.01196107,\n",
       "        0.00953394, 0.00880056, 0.00610661, 0.01425225, 0.00865679,\n",
       "        0.00962751, 0.00737038, 0.02101361, 0.0097478 , 0.00673486,\n",
       "        0.00711038, 0.01927828, 0.01044048, 0.0100912 , 0.00985753,\n",
       "        0.01199848, 0.01090248, 0.00637942, 0.0100912 , 0.01298173,\n",
       "        0.00985753, 0.0078418 , 0.00760974, 0.01025859, 0.00875972,\n",
       "        0.01266718, 0.00967395, 0.00792141, 0.00572788, 0.00940139,\n",
       "        0.00556918, 0.00691869, 0.009344  , 0.00940139, 0.00772664,\n",
       "        0.01044048, 0.0125463 , 0.00869811, 0.00908129, 0.01195357,\n",
       "        0.01122655, 0.00993001, 0.00911085, 0.01008231, 0.01292637,\n",
       "        0.00717314, 0.00875972, 0.00874948, 0.0123301 , 0.00741887,\n",
       "        0.00737038, 0.0122864 , 0.01316685, 0.01187834, 0.01232282,\n",
       "        0.009344  , 0.01258198, 0.01195357, 0.01085304, 0.00642144,\n",
       "        0.00943945, 0.01089425, 0.0140623 , 0.00760974, 0.00704707,\n",
       "        0.00922816, 0.01270252, 0.00717314, 0.00680109, 0.00812255,\n",
       "        0.01313276, 0.01010895, 0.00678789, 0.01052599, 0.01431501,\n",
       "        0.01202833, 0.00737038, 0.00895205, 0.01330905, 0.01190096,\n",
       "        0.01235914, 0.00929591, 0.01461863, 0.008932  , 0.01181023,\n",
       "        0.00972017, 0.01118655, 0.00717314, 0.0140623 , 0.01015319,\n",
       "        0.01236639, 0.00620852, 0.01393422, 0.01006451, 0.0128638 ,\n",
       "        0.00606241, 0.01050041, 0.01357579, 0.01114641, 0.0058823 ,\n",
       "        0.0122864 , 0.00999301, 0.01282192, 0.00349159, 0.0110657 ,\n",
       "        0.01098439, 0.01284288, 0.00743094, 0.0110657 , 0.00673486,\n",
       "        0.01320763, 0.00794401, 0.01090248, 0.00841525, 0.01284288]),\n",
       " 'rank_test_score': array([196, 196, 198, 198, 188, 195, 186, 198, 190, 191, 193, 194, 192,\n",
       "        189, 179, 187, 182, 185, 180, 182, 167, 184, 171, 176, 165, 174,\n",
       "        181, 172, 160, 169, 172, 177, 163, 164, 169, 175, 157, 156, 162,\n",
       "        168, 151, 154, 159, 178, 141, 154, 147, 166, 130, 146, 150, 161,\n",
       "        132, 138, 152, 153, 107, 127, 145, 158, 110, 123, 136, 141,  35,\n",
       "        118, 130, 144,  41, 113, 143, 149,  51, 121, 140, 147,  33, 118,\n",
       "        134, 139,  46,  88, 135, 136,  76,  35, 107, 133,  71,  41, 125,\n",
       "        124,  41,  28, 110, 115,  55,  46,  56, 128,  75,  60,  83,  88,\n",
       "        103,  69,  46,  94,  98,  60,  66, 107, 103,  71,  76,  88,  78,\n",
       "         83,  94, 110, 118,  88, 128, 122,  83,  94, 103, 117,  83,  64,\n",
       "        115,  94,  39,  60, 114,  88,  68,  31, 125,  98,  26,  21, 100,\n",
       "        100,  29,  12,  83,  70,  46,  13,  67, 103,  18,   4,  63,  31,\n",
       "         53,  16,  71,  25,  26,   8,  40,  46,  23,   5,  78,  51,  29,\n",
       "          7,  54,  41,  18,   1,  81,  56,  17,   3,  81,  88,  22,  14,\n",
       "         56,  56,   8,   6, 100,  64,  20,   2,  41,  80,  34,  11,  24,\n",
       "         71,  15,  10,  37,  38])}"
      ]
     },
     "execution_count": 39,
     "metadata": {},
     "output_type": "execute_result"
    }
   ],
   "source": [
    "gs = GridSearchCV(estimator = KNeighborsClassifier(),\n",
    "                  param_grid = {\"n_neighbors\": range(1,51),\n",
    "                                \"weights\": ['uniform', 'distance'],\n",
    "                                \"p\": [1,2]},\n",
    "                  cv=5)\n",
    "\n",
    "gs.fit(X_train, y_train)\n",
    "\n",
    "gs.cv_results_"
   ]
  },
  {
   "cell_type": "code",
   "execution_count": 40,
   "metadata": {},
   "outputs": [
    {
     "data": {
      "text/html": [
       "<div>\n",
       "<style scoped>\n",
       "    .dataframe tbody tr th:only-of-type {\n",
       "        vertical-align: middle;\n",
       "    }\n",
       "\n",
       "    .dataframe tbody tr th {\n",
       "        vertical-align: top;\n",
       "    }\n",
       "\n",
       "    .dataframe thead th {\n",
       "        text-align: right;\n",
       "    }\n",
       "</style>\n",
       "<table border=\"1\" class=\"dataframe\">\n",
       "  <thead>\n",
       "    <tr style=\"text-align: right;\">\n",
       "      <th></th>\n",
       "      <th>mean_fit_time</th>\n",
       "      <th>std_fit_time</th>\n",
       "      <th>mean_score_time</th>\n",
       "      <th>std_score_time</th>\n",
       "      <th>param_n_neighbors</th>\n",
       "      <th>param_p</th>\n",
       "      <th>param_weights</th>\n",
       "      <th>params</th>\n",
       "      <th>split0_test_score</th>\n",
       "      <th>split1_test_score</th>\n",
       "      <th>split2_test_score</th>\n",
       "      <th>split3_test_score</th>\n",
       "      <th>split4_test_score</th>\n",
       "      <th>mean_test_score</th>\n",
       "      <th>std_test_score</th>\n",
       "      <th>rank_test_score</th>\n",
       "    </tr>\n",
       "  </thead>\n",
       "  <tbody>\n",
       "    <tr>\n",
       "      <th>0</th>\n",
       "      <td>0.045211</td>\n",
       "      <td>0.062072</td>\n",
       "      <td>0.140177</td>\n",
       "      <td>0.027657</td>\n",
       "      <td>1</td>\n",
       "      <td>1</td>\n",
       "      <td>uniform</td>\n",
       "      <td>{'n_neighbors': 1, 'p': 1, 'weights': 'uniform'}</td>\n",
       "      <td>0.200599</td>\n",
       "      <td>0.205090</td>\n",
       "      <td>0.230539</td>\n",
       "      <td>0.194611</td>\n",
       "      <td>0.227545</td>\n",
       "      <td>0.211677</td>\n",
       "      <td>0.014594</td>\n",
       "      <td>196</td>\n",
       "    </tr>\n",
       "    <tr>\n",
       "      <th>1</th>\n",
       "      <td>0.011775</td>\n",
       "      <td>0.006053</td>\n",
       "      <td>0.015217</td>\n",
       "      <td>0.009100</td>\n",
       "      <td>1</td>\n",
       "      <td>1</td>\n",
       "      <td>distance</td>\n",
       "      <td>{'n_neighbors': 1, 'p': 1, 'weights': 'distance'}</td>\n",
       "      <td>0.200599</td>\n",
       "      <td>0.205090</td>\n",
       "      <td>0.230539</td>\n",
       "      <td>0.194611</td>\n",
       "      <td>0.227545</td>\n",
       "      <td>0.211677</td>\n",
       "      <td>0.014594</td>\n",
       "      <td>196</td>\n",
       "    </tr>\n",
       "    <tr>\n",
       "      <th>2</th>\n",
       "      <td>0.016069</td>\n",
       "      <td>0.007885</td>\n",
       "      <td>0.151929</td>\n",
       "      <td>0.050141</td>\n",
       "      <td>1</td>\n",
       "      <td>2</td>\n",
       "      <td>uniform</td>\n",
       "      <td>{'n_neighbors': 1, 'p': 2, 'weights': 'uniform'}</td>\n",
       "      <td>0.220060</td>\n",
       "      <td>0.206587</td>\n",
       "      <td>0.211078</td>\n",
       "      <td>0.202096</td>\n",
       "      <td>0.215569</td>\n",
       "      <td>0.211078</td>\n",
       "      <td>0.006351</td>\n",
       "      <td>198</td>\n",
       "    </tr>\n",
       "    <tr>\n",
       "      <th>3</th>\n",
       "      <td>0.013324</td>\n",
       "      <td>0.003946</td>\n",
       "      <td>0.022704</td>\n",
       "      <td>0.003876</td>\n",
       "      <td>1</td>\n",
       "      <td>2</td>\n",
       "      <td>distance</td>\n",
       "      <td>{'n_neighbors': 1, 'p': 2, 'weights': 'distance'}</td>\n",
       "      <td>0.220060</td>\n",
       "      <td>0.206587</td>\n",
       "      <td>0.211078</td>\n",
       "      <td>0.202096</td>\n",
       "      <td>0.215569</td>\n",
       "      <td>0.211078</td>\n",
       "      <td>0.006351</td>\n",
       "      <td>198</td>\n",
       "    </tr>\n",
       "    <tr>\n",
       "      <th>4</th>\n",
       "      <td>0.012143</td>\n",
       "      <td>0.003144</td>\n",
       "      <td>0.137589</td>\n",
       "      <td>0.015142</td>\n",
       "      <td>2</td>\n",
       "      <td>1</td>\n",
       "      <td>uniform</td>\n",
       "      <td>{'n_neighbors': 2, 'p': 1, 'weights': 'uniform'}</td>\n",
       "      <td>0.239521</td>\n",
       "      <td>0.242515</td>\n",
       "      <td>0.232036</td>\n",
       "      <td>0.193114</td>\n",
       "      <td>0.232036</td>\n",
       "      <td>0.227844</td>\n",
       "      <td>0.017849</td>\n",
       "      <td>188</td>\n",
       "    </tr>\n",
       "  </tbody>\n",
       "</table>\n",
       "</div>"
      ],
      "text/plain": [
       "   mean_fit_time  std_fit_time  mean_score_time  std_score_time  \\\n",
       "0       0.045211      0.062072         0.140177        0.027657   \n",
       "1       0.011775      0.006053         0.015217        0.009100   \n",
       "2       0.016069      0.007885         0.151929        0.050141   \n",
       "3       0.013324      0.003946         0.022704        0.003876   \n",
       "4       0.012143      0.003144         0.137589        0.015142   \n",
       "\n",
       "  param_n_neighbors param_p param_weights  \\\n",
       "0                 1       1       uniform   \n",
       "1                 1       1      distance   \n",
       "2                 1       2       uniform   \n",
       "3                 1       2      distance   \n",
       "4                 2       1       uniform   \n",
       "\n",
       "                                              params  split0_test_score  \\\n",
       "0   {'n_neighbors': 1, 'p': 1, 'weights': 'uniform'}           0.200599   \n",
       "1  {'n_neighbors': 1, 'p': 1, 'weights': 'distance'}           0.200599   \n",
       "2   {'n_neighbors': 1, 'p': 2, 'weights': 'uniform'}           0.220060   \n",
       "3  {'n_neighbors': 1, 'p': 2, 'weights': 'distance'}           0.220060   \n",
       "4   {'n_neighbors': 2, 'p': 1, 'weights': 'uniform'}           0.239521   \n",
       "\n",
       "   split1_test_score  split2_test_score  split3_test_score  split4_test_score  \\\n",
       "0           0.205090           0.230539           0.194611           0.227545   \n",
       "1           0.205090           0.230539           0.194611           0.227545   \n",
       "2           0.206587           0.211078           0.202096           0.215569   \n",
       "3           0.206587           0.211078           0.202096           0.215569   \n",
       "4           0.242515           0.232036           0.193114           0.232036   \n",
       "\n",
       "   mean_test_score  std_test_score  rank_test_score  \n",
       "0         0.211677        0.014594              196  \n",
       "1         0.211677        0.014594              196  \n",
       "2         0.211078        0.006351              198  \n",
       "3         0.211078        0.006351              198  \n",
       "4         0.227844        0.017849              188  "
      ]
     },
     "execution_count": 40,
     "metadata": {},
     "output_type": "execute_result"
    }
   ],
   "source": [
    "results = pd.DataFrame(gs.cv_results_)\n",
    "results.head()"
   ]
  },
  {
   "cell_type": "code",
   "execution_count": 41,
   "metadata": {},
   "outputs": [
    {
     "data": {
      "text/html": [
       "<div>\n",
       "<style scoped>\n",
       "    .dataframe tbody tr th:only-of-type {\n",
       "        vertical-align: middle;\n",
       "    }\n",
       "\n",
       "    .dataframe tbody tr th {\n",
       "        vertical-align: top;\n",
       "    }\n",
       "\n",
       "    .dataframe thead th {\n",
       "        text-align: right;\n",
       "    }\n",
       "</style>\n",
       "<table border=\"1\" class=\"dataframe\">\n",
       "  <thead>\n",
       "    <tr style=\"text-align: right;\">\n",
       "      <th></th>\n",
       "      <th>param_n_neighbors</th>\n",
       "      <th>param_weights</th>\n",
       "      <th>param_p</th>\n",
       "      <th>mean_test_score</th>\n",
       "      <th>rank_test_score</th>\n",
       "    </tr>\n",
       "  </thead>\n",
       "  <tbody>\n",
       "    <tr>\n",
       "      <th>0</th>\n",
       "      <td>1</td>\n",
       "      <td>uniform</td>\n",
       "      <td>1</td>\n",
       "      <td>0.211677</td>\n",
       "      <td>196</td>\n",
       "    </tr>\n",
       "    <tr>\n",
       "      <th>1</th>\n",
       "      <td>1</td>\n",
       "      <td>distance</td>\n",
       "      <td>1</td>\n",
       "      <td>0.211677</td>\n",
       "      <td>196</td>\n",
       "    </tr>\n",
       "    <tr>\n",
       "      <th>2</th>\n",
       "      <td>1</td>\n",
       "      <td>uniform</td>\n",
       "      <td>2</td>\n",
       "      <td>0.211078</td>\n",
       "      <td>198</td>\n",
       "    </tr>\n",
       "    <tr>\n",
       "      <th>3</th>\n",
       "      <td>1</td>\n",
       "      <td>distance</td>\n",
       "      <td>2</td>\n",
       "      <td>0.211078</td>\n",
       "      <td>198</td>\n",
       "    </tr>\n",
       "    <tr>\n",
       "      <th>4</th>\n",
       "      <td>2</td>\n",
       "      <td>uniform</td>\n",
       "      <td>1</td>\n",
       "      <td>0.227844</td>\n",
       "      <td>188</td>\n",
       "    </tr>\n",
       "    <tr>\n",
       "      <th>5</th>\n",
       "      <td>2</td>\n",
       "      <td>distance</td>\n",
       "      <td>1</td>\n",
       "      <td>0.211976</td>\n",
       "      <td>195</td>\n",
       "    </tr>\n",
       "    <tr>\n",
       "      <th>6</th>\n",
       "      <td>2</td>\n",
       "      <td>uniform</td>\n",
       "      <td>2</td>\n",
       "      <td>0.231138</td>\n",
       "      <td>186</td>\n",
       "    </tr>\n",
       "    <tr>\n",
       "      <th>7</th>\n",
       "      <td>2</td>\n",
       "      <td>distance</td>\n",
       "      <td>2</td>\n",
       "      <td>0.211078</td>\n",
       "      <td>198</td>\n",
       "    </tr>\n",
       "    <tr>\n",
       "      <th>8</th>\n",
       "      <td>3</td>\n",
       "      <td>uniform</td>\n",
       "      <td>1</td>\n",
       "      <td>0.226946</td>\n",
       "      <td>190</td>\n",
       "    </tr>\n",
       "    <tr>\n",
       "      <th>9</th>\n",
       "      <td>3</td>\n",
       "      <td>distance</td>\n",
       "      <td>1</td>\n",
       "      <td>0.226647</td>\n",
       "      <td>191</td>\n",
       "    </tr>\n",
       "  </tbody>\n",
       "</table>\n",
       "</div>"
      ],
      "text/plain": [
       "  param_n_neighbors param_weights param_p  mean_test_score  rank_test_score\n",
       "0                 1       uniform       1         0.211677              196\n",
       "1                 1      distance       1         0.211677              196\n",
       "2                 1       uniform       2         0.211078              198\n",
       "3                 1      distance       2         0.211078              198\n",
       "4                 2       uniform       1         0.227844              188\n",
       "5                 2      distance       1         0.211976              195\n",
       "6                 2       uniform       2         0.231138              186\n",
       "7                 2      distance       2         0.211078              198\n",
       "8                 3       uniform       1         0.226946              190\n",
       "9                 3      distance       1         0.226647              191"
      ]
     },
     "execution_count": 41,
     "metadata": {},
     "output_type": "execute_result"
    }
   ],
   "source": [
    "results[[\"param_n_neighbors\", \"param_weights\", \"param_p\", \"mean_test_score\", \"rank_test_score\"]].head(10)"
   ]
  },
  {
   "cell_type": "code",
   "execution_count": 42,
   "metadata": {},
   "outputs": [
    {
     "data": {
      "text/plain": [
       "0.28383233532934127"
      ]
     },
     "execution_count": 42,
     "metadata": {},
     "output_type": "execute_result"
    }
   ],
   "source": [
    "gs.best_score_"
   ]
  },
  {
   "cell_type": "code",
   "execution_count": 43,
   "metadata": {},
   "outputs": [
    {
     "data": {
      "text/plain": [
       "{'n_neighbors': 44, 'p': 1, 'weights': 'distance'}"
      ]
     },
     "execution_count": 43,
     "metadata": {},
     "output_type": "execute_result"
    }
   ],
   "source": [
    "gs.best_params_"
   ]
  },
  {
   "cell_type": "code",
   "execution_count": 44,
   "metadata": {},
   "outputs": [
    {
     "data": {
      "text/plain": [
       "0.2715311004784689"
      ]
     },
     "execution_count": 44,
     "metadata": {},
     "output_type": "execute_result"
    }
   ],
   "source": [
    "y_pred = gs.predict(X_test)\n",
    "accuracy_score(y_test, y_pred)"
   ]
  },
  {
   "cell_type": "code",
   "execution_count": 45,
   "metadata": {},
   "outputs": [
    {
     "name": "stderr",
     "output_type": "stream",
     "text": [
      "C:\\Users\\pawn\\anaconda3\\lib\\site-packages\\sklearn\\model_selection\\_split.py:684: UserWarning: The least populated class in y has only 1 members, which is less than n_splits=5.\n",
      "  warnings.warn(\n"
     ]
    },
    {
     "data": {
      "text/plain": [
       "0.2751497005988024"
      ]
     },
     "execution_count": 45,
     "metadata": {},
     "output_type": "execute_result"
    }
   ],
   "source": [
    "rs = RandomizedSearchCV(estimator = KNeighborsClassifier(),\n",
    "                        param_distributions = {\"n_neighbors\": range(1,51),\n",
    "                                               \"weights\": ['uniform', 'distance'],\n",
    "                                               \"p\": [1,2]},\n",
    "                        cv=5,\n",
    "                        n_iter=10)\n",
    "\n",
    "rs.fit(X_train, y_train)\n",
    "\n",
    "rs.best_score_"
   ]
  },
  {
   "cell_type": "code",
   "execution_count": 46,
   "metadata": {},
   "outputs": [
    {
     "data": {
      "text/plain": [
       "{'weights': 'distance', 'p': 1, 'n_neighbors': 35}"
      ]
     },
     "execution_count": 46,
     "metadata": {},
     "output_type": "execute_result"
    }
   ],
   "source": [
    "rs.best_params_"
   ]
  },
  {
   "cell_type": "code",
   "execution_count": 47,
   "metadata": {},
   "outputs": [
    {
     "data": {
      "text/plain": [
       "0.26913875598086123"
      ]
     },
     "execution_count": 47,
     "metadata": {},
     "output_type": "execute_result"
    }
   ],
   "source": [
    "y_pred = rs.predict(X_test)\n",
    "accuracy_score(y_test, y_pred)"
   ]
  },
  {
   "cell_type": "markdown",
   "metadata": {},
   "source": [
    "##  4) Use sklearn to implement K-NN and mlxtend to plot the desicion boundary"
   ]
  },
  {
   "cell_type": "code",
   "execution_count": 48,
   "metadata": {},
   "outputs": [
    {
     "name": "stdout",
     "output_type": "stream",
     "text": [
      "Requirement already satisfied: mlxtend in c:\\users\\pawn\\anaconda3\\lib\\site-packages (0.20.0)Note: you may need to restart the kernel to use updated packages.\n",
      "\n",
      "Requirement already satisfied: numpy>=1.16.2 in c:\\users\\pawn\\anaconda3\\lib\\site-packages (from mlxtend) (1.23.4)\n",
      "Requirement already satisfied: scipy>=1.2.1 in c:\\users\\pawn\\anaconda3\\lib\\site-packages (from mlxtend) (1.5.2)\n",
      "Requirement already satisfied: scikit-learn>=1.0.2 in c:\\users\\pawn\\anaconda3\\lib\\site-packages (from mlxtend) (1.1.2)\n",
      "Requirement already satisfied: pandas>=0.24.2 in c:\\users\\pawn\\anaconda3\\lib\\site-packages (from mlxtend) (1.1.3)\n",
      "Requirement already satisfied: joblib>=0.13.2 in c:\\users\\pawn\\anaconda3\\lib\\site-packages (from mlxtend) (0.17.0)\n",
      "Requirement already satisfied: matplotlib>=3.0.0 in c:\\users\\pawn\\anaconda3\\lib\\site-packages (from mlxtend) (3.3.2)\n",
      "Requirement already satisfied: setuptools in c:\\users\\pawn\\anaconda3\\lib\\site-packages (from mlxtend) (50.3.1.post20201107)\n",
      "Requirement already satisfied: threadpoolctl>=2.0.0 in c:\\users\\pawn\\anaconda3\\lib\\site-packages (from scikit-learn>=1.0.2->mlxtend) (2.1.0)\n",
      "Requirement already satisfied: python-dateutil>=2.7.3 in c:\\users\\pawn\\anaconda3\\lib\\site-packages (from pandas>=0.24.2->mlxtend) (2.8.1)\n",
      "Requirement already satisfied: pytz>=2017.2 in c:\\users\\pawn\\anaconda3\\lib\\site-packages (from pandas>=0.24.2->mlxtend) (2020.1)\n",
      "Requirement already satisfied: pyparsing!=2.0.4,!=2.1.2,!=2.1.6,>=2.0.3 in c:\\users\\pawn\\anaconda3\\lib\\site-packages (from matplotlib>=3.0.0->mlxtend) (2.4.7)\n",
      "Requirement already satisfied: pillow>=6.2.0 in c:\\users\\pawn\\anaconda3\\lib\\site-packages (from matplotlib>=3.0.0->mlxtend) (8.0.1)\n",
      "Requirement already satisfied: cycler>=0.10 in c:\\users\\pawn\\anaconda3\\lib\\site-packages (from matplotlib>=3.0.0->mlxtend) (0.10.0)\n",
      "Requirement already satisfied: certifi>=2020.06.20 in c:\\users\\pawn\\anaconda3\\lib\\site-packages (from matplotlib>=3.0.0->mlxtend) (2022.6.15)\n",
      "Requirement already satisfied: kiwisolver>=1.0.1 in c:\\users\\pawn\\anaconda3\\lib\\site-packages (from matplotlib>=3.0.0->mlxtend) (1.3.0)\n",
      "Requirement already satisfied: six>=1.5 in c:\\users\\pawn\\anaconda3\\lib\\site-packages (from python-dateutil>=2.7.3->pandas>=0.24.2->mlxtend) (1.15.0)\n"
     ]
    }
   ],
   "source": [
    "pip install mlxtend"
   ]
  },
  {
   "cell_type": "code",
   "execution_count": 84,
   "metadata": {},
   "outputs": [],
   "source": [
    "from mlxtend.plotting import plot_decision_regions"
   ]
  },
  {
   "cell_type": "code",
   "execution_count": 85,
   "metadata": {},
   "outputs": [
    {
     "data": {
      "text/plain": [
       "array([ 6,  8,  9, ...,  8,  9, 11], dtype=int64)"
      ]
     },
     "execution_count": 85,
     "metadata": {},
     "output_type": "execute_result"
    }
   ],
   "source": [
    "from sklearn.preprocessing import LabelEncoder\n",
    "\n",
    "le = LabelEncoder()\n",
    "y = le.fit_transform(y)\n",
    "y"
   ]
  },
  {
   "cell_type": "code",
   "execution_count": 86,
   "metadata": {},
   "outputs": [],
   "source": [
    "X_train, X_test, y_train, y_test = train_test_split(X, y, test_size=0.2, random_state=42)"
   ]
  },
  {
   "cell_type": "code",
   "execution_count": 87,
   "metadata": {},
   "outputs": [
    {
     "data": {
      "text/html": [
       "<style>#sk-container-id-4 {color: black;background-color: white;}#sk-container-id-4 pre{padding: 0;}#sk-container-id-4 div.sk-toggleable {background-color: white;}#sk-container-id-4 label.sk-toggleable__label {cursor: pointer;display: block;width: 100%;margin-bottom: 0;padding: 0.3em;box-sizing: border-box;text-align: center;}#sk-container-id-4 label.sk-toggleable__label-arrow:before {content: \"▸\";float: left;margin-right: 0.25em;color: #696969;}#sk-container-id-4 label.sk-toggleable__label-arrow:hover:before {color: black;}#sk-container-id-4 div.sk-estimator:hover label.sk-toggleable__label-arrow:before {color: black;}#sk-container-id-4 div.sk-toggleable__content {max-height: 0;max-width: 0;overflow: hidden;text-align: left;background-color: #f0f8ff;}#sk-container-id-4 div.sk-toggleable__content pre {margin: 0.2em;color: black;border-radius: 0.25em;background-color: #f0f8ff;}#sk-container-id-4 input.sk-toggleable__control:checked~div.sk-toggleable__content {max-height: 200px;max-width: 100%;overflow: auto;}#sk-container-id-4 input.sk-toggleable__control:checked~label.sk-toggleable__label-arrow:before {content: \"▾\";}#sk-container-id-4 div.sk-estimator input.sk-toggleable__control:checked~label.sk-toggleable__label {background-color: #d4ebff;}#sk-container-id-4 div.sk-label input.sk-toggleable__control:checked~label.sk-toggleable__label {background-color: #d4ebff;}#sk-container-id-4 input.sk-hidden--visually {border: 0;clip: rect(1px 1px 1px 1px);clip: rect(1px, 1px, 1px, 1px);height: 1px;margin: -1px;overflow: hidden;padding: 0;position: absolute;width: 1px;}#sk-container-id-4 div.sk-estimator {font-family: monospace;background-color: #f0f8ff;border: 1px dotted black;border-radius: 0.25em;box-sizing: border-box;margin-bottom: 0.5em;}#sk-container-id-4 div.sk-estimator:hover {background-color: #d4ebff;}#sk-container-id-4 div.sk-parallel-item::after {content: \"\";width: 100%;border-bottom: 1px solid gray;flex-grow: 1;}#sk-container-id-4 div.sk-label:hover label.sk-toggleable__label {background-color: #d4ebff;}#sk-container-id-4 div.sk-serial::before {content: \"\";position: absolute;border-left: 1px solid gray;box-sizing: border-box;top: 0;bottom: 0;left: 50%;z-index: 0;}#sk-container-id-4 div.sk-serial {display: flex;flex-direction: column;align-items: center;background-color: white;padding-right: 0.2em;padding-left: 0.2em;position: relative;}#sk-container-id-4 div.sk-item {position: relative;z-index: 1;}#sk-container-id-4 div.sk-parallel {display: flex;align-items: stretch;justify-content: center;background-color: white;position: relative;}#sk-container-id-4 div.sk-item::before, #sk-container-id-4 div.sk-parallel-item::before {content: \"\";position: absolute;border-left: 1px solid gray;box-sizing: border-box;top: 0;bottom: 0;left: 50%;z-index: -1;}#sk-container-id-4 div.sk-parallel-item {display: flex;flex-direction: column;z-index: 1;position: relative;background-color: white;}#sk-container-id-4 div.sk-parallel-item:first-child::after {align-self: flex-end;width: 50%;}#sk-container-id-4 div.sk-parallel-item:last-child::after {align-self: flex-start;width: 50%;}#sk-container-id-4 div.sk-parallel-item:only-child::after {width: 0;}#sk-container-id-4 div.sk-dashed-wrapped {border: 1px dashed gray;margin: 0 0.4em 0.5em 0.4em;box-sizing: border-box;padding-bottom: 0.4em;background-color: white;}#sk-container-id-4 div.sk-label label {font-family: monospace;font-weight: bold;display: inline-block;line-height: 1.2em;}#sk-container-id-4 div.sk-label-container {text-align: center;}#sk-container-id-4 div.sk-container {/* jupyter's `normalize.less` sets `[hidden] { display: none; }` but bootstrap.min.css set `[hidden] { display: none !important; }` so we also need the `!important` here to be able to override the default hidden behavior on the sphinx rendered scikit-learn.org. See: https://github.com/scikit-learn/scikit-learn/issues/21755 */display: inline-block !important;position: relative;}#sk-container-id-4 div.sk-text-repr-fallback {display: none;}</style><div id=\"sk-container-id-4\" class=\"sk-top-container\"><div class=\"sk-text-repr-fallback\"><pre>KNeighborsClassifier(n_neighbors=50)</pre><b>In a Jupyter environment, please rerun this cell to show the HTML representation or trust the notebook. <br />On GitHub, the HTML representation is unable to render, please try loading this page with nbviewer.org.</b></div><div class=\"sk-container\" hidden><div class=\"sk-item\"><div class=\"sk-estimator sk-toggleable\"><input class=\"sk-toggleable__control sk-hidden--visually\" id=\"sk-estimator-id-4\" type=\"checkbox\" checked><label for=\"sk-estimator-id-4\" class=\"sk-toggleable__label sk-toggleable__label-arrow\">KNeighborsClassifier</label><div class=\"sk-toggleable__content\"><pre>KNeighborsClassifier(n_neighbors=50)</pre></div></div></div></div></div>"
      ],
      "text/plain": [
       "KNeighborsClassifier(n_neighbors=50)"
      ]
     },
     "execution_count": 87,
     "metadata": {},
     "output_type": "execute_result"
    }
   ],
   "source": [
    "k=50                     # try k=50\n",
    "model = KNeighborsClassifier(n_neighbors=k)\n",
    "model.fit(X_train, y_train)"
   ]
  },
  {
   "cell_type": "code",
   "execution_count": 88,
   "metadata": {},
   "outputs": [
    {
     "data": {
      "text/plain": [
       "0.2679425837320574"
      ]
     },
     "execution_count": 88,
     "metadata": {},
     "output_type": "execute_result"
    }
   ],
   "source": [
    "y_pred = model.predict(X_test)\n",
    "\n",
    "accuracy_score(y_test, y_pred)"
   ]
  },
  {
   "cell_type": "code",
   "execution_count": 89,
   "metadata": {},
   "outputs": [
    {
     "data": {
      "text/plain": [
       "2.633501346367107"
      ]
     },
     "execution_count": 89,
     "metadata": {},
     "output_type": "execute_result"
    }
   ],
   "source": [
    "from sklearn.metrics import mean_squared_error\n",
    "from math import sqrt\n",
    "#lets evaluate the prediction error on the training data\n",
    "train_preds = model.predict(X_train)\n",
    "mse = mean_squared_error(y_train, train_preds)\n",
    "rmse = sqrt(mse)\n",
    "rmse"
   ]
  },
  {
   "cell_type": "code",
   "execution_count": 90,
   "metadata": {},
   "outputs": [
    {
     "data": {
      "text/plain": [
       "2.7675062617979584"
      ]
     },
     "execution_count": 90,
     "metadata": {},
     "output_type": "execute_result"
    }
   ],
   "source": [
    "from sklearn.metrics import mean_squared_error\n",
    "from math import sqrt\n",
    "#lets evaluate the prediction error on the test data\n",
    "test_preds = model.predict(X_test)\n",
    "mse = mean_squared_error(y_test, test_preds)\n",
    "rmse = sqrt(mse)\n",
    "rmse"
   ]
  },
  {
   "cell_type": "code",
   "execution_count": 91,
   "metadata": {},
   "outputs": [],
   "source": [
    "#Since both training and testing error are almost the same we can infer that the model is performing adequately"
   ]
  },
  {
   "cell_type": "code",
   "execution_count": 92,
   "metadata": {},
   "outputs": [
    {
     "ename": "AttributeError",
     "evalue": "'numpy.ndarray' object has no attribute 'to_numpy'",
     "output_type": "error",
     "traceback": [
      "\u001b[1;31m---------------------------------------------------------------------------\u001b[0m",
      "\u001b[1;31mAttributeError\u001b[0m                            Traceback (most recent call last)",
      "\u001b[1;32m<ipython-input-92-f5e7869c39f7>\u001b[0m in \u001b[0;36m<module>\u001b[1;34m\u001b[0m\n\u001b[0;32m      1\u001b[0m \u001b[1;32mimport\u001b[0m \u001b[0mnumpy\u001b[0m \u001b[1;32mas\u001b[0m \u001b[0mnp\u001b[0m\u001b[1;33m\u001b[0m\u001b[1;33m\u001b[0m\u001b[0m\n\u001b[1;32m----> 2\u001b[1;33m \u001b[0mplot_decision_regions\u001b[0m\u001b[1;33m(\u001b[0m\u001b[0mX_train\u001b[0m\u001b[1;33m.\u001b[0m\u001b[0mto_numpy\u001b[0m\u001b[1;33m(\u001b[0m\u001b[1;33m)\u001b[0m\u001b[1;33m,\u001b[0m \u001b[0my_train\u001b[0m\u001b[1;33m,\u001b[0m \u001b[0mclf\u001b[0m \u001b[1;33m=\u001b[0m \u001b[0mmodel\u001b[0m\u001b[1;33m)\u001b[0m \u001b[1;31m# change to test data\u001b[0m\u001b[1;33m\u001b[0m\u001b[1;33m\u001b[0m\u001b[0m\n\u001b[0m\u001b[0;32m      3\u001b[0m \u001b[0mplt\u001b[0m\u001b[1;33m.\u001b[0m\u001b[0mtitle\u001b[0m\u001b[1;33m(\u001b[0m\u001b[1;34mf\"Decision Regions using {k}-NN and the Test Data\"\u001b[0m\u001b[1;33m)\u001b[0m\u001b[1;33m;\u001b[0m\u001b[1;33m\u001b[0m\u001b[1;33m\u001b[0m\u001b[0m\n",
      "\u001b[1;31mAttributeError\u001b[0m: 'numpy.ndarray' object has no attribute 'to_numpy'"
     ]
    }
   ],
   "source": [
    "import numpy as np\n",
    "plot_decision_regions(X_train.to_numpy(), y_train, clf = model) # change to test data\n",
    "plt.title(f\"Decision Regions using {k}-NN and the Test Data\");"
   ]
  },
  {
   "cell_type": "code",
   "execution_count": 93,
   "metadata": {},
   "outputs": [
    {
     "ename": "AttributeError",
     "evalue": "'numpy.ndarray' object has no attribute 'to_numpy'",
     "output_type": "error",
     "traceback": [
      "\u001b[1;31m---------------------------------------------------------------------------\u001b[0m",
      "\u001b[1;31mAttributeError\u001b[0m                            Traceback (most recent call last)",
      "\u001b[1;32m<ipython-input-93-21da84b86e9c>\u001b[0m in \u001b[0;36m<module>\u001b[1;34m\u001b[0m\n\u001b[1;32m----> 1\u001b[1;33m \u001b[0mplot_decision_regions\u001b[0m\u001b[1;33m(\u001b[0m\u001b[0mX_train\u001b[0m\u001b[1;33m.\u001b[0m\u001b[0mto_numpy\u001b[0m\u001b[1;33m(\u001b[0m\u001b[1;33m)\u001b[0m\u001b[1;33m,\u001b[0m \u001b[0my_train\u001b[0m\u001b[1;33m,\u001b[0m \u001b[0mclf\u001b[0m \u001b[1;33m=\u001b[0m \u001b[0mmodel\u001b[0m\u001b[1;33m)\u001b[0m \u001b[1;31m# change to test data\u001b[0m\u001b[1;33m\u001b[0m\u001b[1;33m\u001b[0m\u001b[0m\n\u001b[0m\u001b[0;32m      2\u001b[0m \u001b[1;33m\u001b[0m\u001b[0m\n\u001b[0;32m      3\u001b[0m \u001b[0mplt\u001b[0m\u001b[1;33m.\u001b[0m\u001b[0mtitle\u001b[0m\u001b[1;33m(\u001b[0m\u001b[1;34mf\"Decision Regions using {k}-NN and the Test Data\"\u001b[0m\u001b[1;33m)\u001b[0m\u001b[1;33m;\u001b[0m\u001b[1;33m\u001b[0m\u001b[1;33m\u001b[0m\u001b[0m\n",
      "\u001b[1;31mAttributeError\u001b[0m: 'numpy.ndarray' object has no attribute 'to_numpy'"
     ]
    }
   ],
   "source": [
    "plot_decision_regions(X_train.to_numpy(), y_train, clf = model) # change to test data\n",
    "\n",
    "plt.title(f\"Decision Regions using {k}-NN and the Test Data\");"
   ]
  },
  {
   "cell_type": "code",
   "execution_count": null,
   "metadata": {},
   "outputs": [],
   "source": []
  }
 ],
 "metadata": {
  "kernelspec": {
   "display_name": "Python 3",
   "language": "python",
   "name": "python3"
  },
  "language_info": {
   "codemirror_mode": {
    "name": "ipython",
    "version": 3
   },
   "file_extension": ".py",
   "mimetype": "text/x-python",
   "name": "python",
   "nbconvert_exporter": "python",
   "pygments_lexer": "ipython3",
   "version": "3.8.5"
  }
 },
 "nbformat": 4,
 "nbformat_minor": 5
}
